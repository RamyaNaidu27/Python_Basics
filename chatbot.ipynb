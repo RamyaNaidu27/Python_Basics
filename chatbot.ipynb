{
  "nbformat": 4,
  "nbformat_minor": 0,
  "metadata": {
    "colab": {
      "provenance": []
    },
    "kernelspec": {
      "name": "python3",
      "display_name": "Python 3"
    },
    "language_info": {
      "name": "python"
    }
  },
  "cells": [
    {
      "cell_type": "code",
      "execution_count": 1,
      "metadata": {
        "id": "BFI2R7agVopK",
        "colab": {
          "base_uri": "https://localhost:8080/"
        },
        "outputId": "b3b3f0cf-e1d9-46d1-8d46-d690cb98f916"
      },
      "outputs": [
        {
          "output_type": "stream",
          "name": "stderr",
          "text": [
            "/usr/local/lib/python3.11/dist-packages/huggingface_hub/utils/_auth.py:94: UserWarning: \n",
            "The secret `HF_TOKEN` does not exist in your Colab secrets.\n",
            "To authenticate with the Hugging Face Hub, create a token in your settings tab (https://huggingface.co/settings/tokens), set it as secret in your Google Colab and restart your session.\n",
            "You will be able to reuse this secret in all of your notebooks.\n",
            "Please note that authentication is recommended but still optional to access public models or datasets.\n",
            "  warnings.warn(\n"
          ]
        },
        {
          "name": "stdout",
          "output_type": "stream",
          "text": [
            "Welcome to the Indian Tourism Chatbot!\n",
            "Type 'quit' to end the conversation.\n",
            "\n",
            "User: Hello I'm RamyaNaidu\n",
            "Chatbot:  Hi, how are you today? I'm doing well, thank you. How are you?\n",
            "User: I'm Good\n",
            "Chatbot:  I'm good, thanks for asking. What do you like to do in your spare time?\n",
            "User: What is your good name?\n",
            "Chatbot:  I like to spend time with my family. My name is Mary. How about you?\n",
            "User: Suggest me some 3 best places to visit in hyderabad? \n",
            "Chatbot:  Hi Mary, my name is sarah. I like going to the beach.\n",
            "User: quit\n"
          ]
        }
      ],
      "source": [
        "import os\n",
        "import atexit\n",
        "import shutil\n",
        "from transformers import BlenderbotTokenizer, BlenderbotForConditionalGeneration\n",
        "model_name = \"facebook/blenderbot-1B-distill\"\n",
        "tokenizer = BlenderbotTokenizer.from_pretrained(model_name)\n",
        "model = BlenderbotForConditionalGeneration.from_pretrained(model_name)\n",
        "def interact_with_chatbot(user_input, conversation_history):\n",
        "    conversation_history.append(f\"User: {user_input}\")\n",
        "    conversation_text = \" \".join(conversation_history[-5:])\n",
        "    inputs = tokenizer(conversation_text, return_tensors=\"pt\", truncation=True)\n",
        "    response_ids = model.generate(**inputs, max_length=1000, pad_token_id=tokenizer.eos_token_id)\n",
        "    response_text = tokenizer.decode(response_ids[0], skip_special_tokens=True)\n",
        "    conversation_history.append(f\"Chatbot: {response_text}\")\n",
        "    return response_text\n",
        "def delete_model_files():\n",
        "  cache_dir = os.path.expanduser(\"~/.cache/huggingface/hub/models--facebook--blenderbot-1B-distill\")\n",
        "  if os.path.exists(cache_dir):\n",
        "    user_input = input(\"Do you want to delete the model files from the cache directory? (y/n): \")\n",
        "    if user_input.lower() == 'y':\n",
        "      shutil.rmtree(cache_dir)\n",
        "      print(f\"Deleted model files from cache directory: {cache_dir}\")\n",
        "    else:\n",
        "        print(\"Model files not deleted from cache directory.\")\n",
        "  else:\n",
        "    print(f\"Model files not found in cache directory: {cache_dir}\")\n",
        "atexit.register(delete_model_files)\n",
        "print(\"Welcome to the Indian Tourism Chatbot!\")\n",
        "print(\"Type 'quit' to end the conversation.\\n\")\n",
        "conversation_history = []\n",
        "while True:\n",
        "  user_input = input(\"User: \")\n",
        "  if user_input.lower() == 'quit':\n",
        "    break\n",
        "  response_text = interact_with_chatbot(user_input, conversation_history)\n",
        "  print(f\"Chatbot: {response_text}\")"
      ]
    }
  ]
}