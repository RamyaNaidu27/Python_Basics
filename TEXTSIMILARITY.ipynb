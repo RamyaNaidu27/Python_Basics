{
 "cells": [
  {
   "cell_type": "markdown",
   "id": "dca71a06-e9d3-486b-8187-229ca473bea7",
   "metadata": {},
   "source": [
    "### TEXT SIMILARITY"
   ]
  },
  {
   "cell_type": "code",
   "execution_count": 5,
   "id": "eb8cabd1-9d58-45a7-82c4-0f5d09ba0c14",
   "metadata": {},
   "outputs": [],
   "source": [
    "import numpy as np\n",
    "from sklearn.feature_extraction.text import TfidfVectorizer\n",
    "from sklearn.metrics.pairwise import cosine_similarity\n"
   ]
  },
  {
   "cell_type": "code",
   "execution_count": 14,
   "id": "0bdd6b51-ee48-40e9-a5f5-a7a7ee6ccc71",
   "metadata": {},
   "outputs": [],
   "source": [
    "responses = [\n",
    "    \"You can return an item within 7 days of purchase.\", \n",
    "    \"Our return policy allows you to return items that are unopened and in their original condition.\",\n",
    "    \"We offer free shipping on orders over $50.\",\n",
    "    \"To track your order, you can visit the 'Order Tracking' page and enter your order number.\",\n",
    "    \"Our customer support team is available from 9 AM to 6 PM, Monday through Friday.\"\n",
    "]\n"
   ]
  },
  {
   "cell_type": "code",
   "execution_count": 16,
   "id": "ab5c53c7-1cc9-4550-8d94-c4baeebcfd83",
   "metadata": {},
   "outputs": [],
   "source": [
    "user_input = \"How can I track my order?\""
   ]
  },
  {
   "cell_type": "code",
   "execution_count": 24,
   "id": "65d07aae-914a-402f-8750-ba0e436e01bf",
   "metadata": {},
   "outputs": [],
   "source": [
    "from sklearn.feature_extraction.text import TfidfVectorizer\n",
    "vectorizer = TfidfVectorizer(stop_words='english')  \n",
    "all_texts = responses  \n"
   ]
  },
  {
   "cell_type": "code",
   "execution_count": 28,
   "id": "cf1f0776-5367-4dcc-ab02-938a38579370",
   "metadata": {},
   "outputs": [],
   "source": [
    "tfidf_matrix = vectorizer.fit_transform(all_texts)"
   ]
  },
  {
   "cell_type": "code",
   "execution_count": 32,
   "id": "b0d45f40-653a-4c84-a883-b495d7a80809",
   "metadata": {},
   "outputs": [],
   "source": [
    "##step-5\n",
    "user_vector = tfidf_matrix[-1]\n",
    "response_vectors = tfidf_matrix[:-1]\n",
    "cosine_similarities = cosine_similarity(user_vector, response_vectors)"
   ]
  },
  {
   "cell_type": "code",
   "execution_count": 34,
   "id": "165d81a8-785d-4cda-bfac-57bffb648808",
   "metadata": {},
   "outputs": [],
   "source": [
    "##step-6\n",
    "most_similar_idx = np.argmax(cosine_similarities)"
   ]
  },
  {
   "cell_type": "code",
   "execution_count": 36,
   "id": "3dd442c7-afe9-4d9c-99cf-cc4ba0f1641a",
   "metadata": {},
   "outputs": [
    {
     "name": "stdout",
     "output_type": "stream",
     "text": [
      "User Query: How can I track my order?\n",
      "Most relevant response: You can return an item within 7 days of purchase.\n"
     ]
    }
   ],
   "source": [
    "##step-7\n",
    "print(f\"User Query: {user_input}\")\n",
    "print(f\"Most relevant response: {responses[most_similar_idx]}\")"
   ]
  },
  {
   "cell_type": "code",
   "execution_count": 10,
   "id": "d2bbfe99-7ded-4a36-ab88-45b36eedafac",
   "metadata": {},
   "outputs": [],
   "source": [
    "import io\n",
    "import random\n",
    "import string\n",
    "import warnings \n",
    "warnings.filterwarnings('ignore')  \n",
    "\n",
    "import numpy as np\n",
    "from sklearn.feature_extraction.text import TfidfVectorizer\n",
    "from sklearn.metrics.pairwise import cosine_similarity\n",
    "from nltk.stem import WordNetLemmatizer\n"
   ]
  },
  {
   "cell_type": "code",
   "execution_count": null,
   "id": "d77f0ad8-ba93-4bd7-a711-234eafb81405",
   "metadata": {},
   "outputs": [],
   "source": []
  }
 ],
 "metadata": {
  "kernelspec": {
   "display_name": "Python [conda env:base] *",
   "language": "python",
   "name": "conda-base-py"
  },
  "language_info": {
   "codemirror_mode": {
    "name": "ipython",
    "version": 3
   },
   "file_extension": ".py",
   "mimetype": "text/x-python",
   "name": "python",
   "nbconvert_exporter": "python",
   "pygments_lexer": "ipython3",
   "version": "3.12.7"
  }
 },
 "nbformat": 4,
 "nbformat_minor": 5
}
