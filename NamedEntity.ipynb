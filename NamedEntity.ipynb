{
 "cells": [
  {
   "cell_type": "code",
   "execution_count": 17,
   "id": "903aaddb-7c5a-4ca5-af4c-b2caf1c93e31",
   "metadata": {},
   "outputs": [],
   "source": [
    "sent = \"Ram is studying at Malla Reddy University in Hyderabad, India\"\n"
   ]
  },
  {
   "cell_type": "code",
   "execution_count": 11,
   "id": "4cbb189b-e6a2-4b71-994f-1b6f93da19a2",
   "metadata": {},
   "outputs": [
    {
     "name": "stderr",
     "output_type": "stream",
     "text": [
      "[nltk_data] Downloading package words to\n",
      "[nltk_data]     C:\\Users\\devin\\AppData\\Roaming\\nltk_data...\n",
      "[nltk_data]   Package words is already up-to-date!\n"
     ]
    },
    {
     "data": {
      "text/plain": [
       "True"
      ]
     },
     "execution_count": 11,
     "metadata": {},
     "output_type": "execute_result"
    }
   ],
   "source": [
    "import nltk\n",
    "nltk.download('words')"
   ]
  },
  {
   "cell_type": "code",
   "execution_count": 13,
   "id": "3aa7322f-e23e-42a8-b317-89cab176654c",
   "metadata": {},
   "outputs": [
    {
     "name": "stdout",
     "output_type": "stream",
     "text": [
      "Requirement already satisfied: svgling in c:\\users\\devin\\anaconda3\\lib\\site-packages (0.5.0)\n",
      "Requirement already satisfied: svgwrite in c:\\users\\devin\\anaconda3\\lib\\site-packages (from svgling) (1.4.3)\n"
     ]
    }
   ],
   "source": [
    "!pip install svgling"
   ]
  },
  {
   "cell_type": "code",
   "execution_count": null,
   "id": "b5b0a861-8e89-4613-887e-2d232466684a",
   "metadata": {},
   "outputs": [],
   "source": []
  },
  {
   "cell_type": "code",
   "execution_count": 21,
   "id": "5485b5f4-afa4-463f-b7f9-fc3b53c78ff8",
   "metadata": {},
   "outputs": [
    {
     "name": "stderr",
     "output_type": "stream",
     "text": [
      "[nltk_data] Downloading package punkt to\n",
      "[nltk_data]     C:\\Users\\devin\\AppData\\Roaming\\nltk_data...\n",
      "[nltk_data]   Package punkt is already up-to-date!\n"
     ]
    },
    {
     "data": {
      "text/plain": [
       "True"
      ]
     },
     "execution_count": 21,
     "metadata": {},
     "output_type": "execute_result"
    }
   ],
   "source": [
    "import nltk\n",
    "nltk.download('punkt')\n"
   ]
  },
  {
   "cell_type": "code",
   "execution_count": 23,
   "id": "599fe386-35fc-4856-ae0b-a330b6185e1a",
   "metadata": {},
   "outputs": [
    {
     "name": "stderr",
     "output_type": "stream",
     "text": [
      "[nltk_data] Downloading package punkt_tab to\n",
      "[nltk_data]     C:\\Users\\devin\\AppData\\Roaming\\nltk_data...\n",
      "[nltk_data]   Package punkt_tab is already up-to-date!\n"
     ]
    },
    {
     "data": {
      "text/plain": [
       "True"
      ]
     },
     "execution_count": 23,
     "metadata": {},
     "output_type": "execute_result"
    }
   ],
   "source": [
    "import nltk\n",
    "nltk.download('punkt_tab')"
   ]
  },
  {
   "cell_type": "code",
   "execution_count": 25,
   "id": "1258924a-3afb-48b4-985f-9aa395c7a800",
   "metadata": {},
   "outputs": [
    {
     "name": "stderr",
     "output_type": "stream",
     "text": [
      "[nltk_data] Downloading package averaged_perceptron_tagger_eng to\n",
      "[nltk_data]     C:\\Users\\devin\\AppData\\Roaming\\nltk_data...\n",
      "[nltk_data]   Package averaged_perceptron_tagger_eng is already up-to-\n",
      "[nltk_data]       date!\n"
     ]
    },
    {
     "data": {
      "text/plain": [
       "True"
      ]
     },
     "execution_count": 25,
     "metadata": {},
     "output_type": "execute_result"
    }
   ],
   "source": [
    "import nltk\n",
    "nltk.download('averaged_perceptron_tagger_eng')"
   ]
  },
  {
   "cell_type": "code",
   "execution_count": 27,
   "id": "1ea2f783-8752-4899-8628-89ed578bc37f",
   "metadata": {},
   "outputs": [
    {
     "name": "stderr",
     "output_type": "stream",
     "text": [
      "[nltk_data] Downloading package maxent_ne_chunker_tab to\n",
      "[nltk_data]     C:\\Users\\devin\\AppData\\Roaming\\nltk_data...\n",
      "[nltk_data]   Unzipping chunkers\\maxent_ne_chunker_tab.zip.\n"
     ]
    },
    {
     "data": {
      "text/plain": [
       "True"
      ]
     },
     "execution_count": 27,
     "metadata": {},
     "output_type": "execute_result"
    }
   ],
   "source": [
    "import nltk\n",
    "nltk.download('maxent_ne_chunker_tab')"
   ]
  },
  {
   "cell_type": "code",
   "execution_count": 29,
   "id": "8d7ccf11-85c1-4aee-af3a-941bc6982767",
   "metadata": {},
   "outputs": [
    {
     "data": {
      "image/svg+xml": [
       "<svg baseProfile=\"full\" height=\"168px\" preserveAspectRatio=\"xMidYMid meet\" style=\"font-family: times, serif; font-weight: normal; font-style: normal; font-size: 16px\" version=\"1.1\" viewBox=\"0,0,600.0,168.0\" width=\"600px\" xmlns=\"http://www.w3.org/2000/svg\" xmlns:ev=\"http://www.w3.org/2001/xml-events\" xmlns:xlink=\"http://www.w3.org/1999/xlink\"><defs /><svg width=\"100%\" x=\"0\" y=\"0px\"><defs /><text text-anchor=\"middle\" x=\"50%\" y=\"16px\">S</text></svg><svg width=\"6.66667%\" x=\"0%\" y=\"48px\"><defs /><svg width=\"100%\" x=\"0\" y=\"0px\"><defs /><text text-anchor=\"middle\" x=\"50%\" y=\"16px\">GPE</text></svg><svg width=\"100%\" x=\"0%\" y=\"48px\"><defs /><svg width=\"100%\" x=\"0\" y=\"0px\"><defs /><text text-anchor=\"middle\" x=\"50%\" y=\"16px\">Ram</text></svg><svg width=\"100%\" x=\"0%\" y=\"48px\"><defs /><svg width=\"100%\" x=\"0\" y=\"0px\"><defs /><text text-anchor=\"middle\" x=\"50%\" y=\"16px\">NNP</text></svg></svg><line stroke=\"black\" x1=\"50%\" x2=\"50%\" y1=\"20px\" y2=\"48px\" /></svg><line stroke=\"black\" x1=\"50%\" x2=\"50%\" y1=\"20px\" y2=\"48px\" /></svg><line stroke=\"black\" x1=\"50%\" x2=\"3.33333%\" y1=\"20px\" y2=\"48px\" /><svg width=\"6.66667%\" x=\"6.66667%\" y=\"48px\"><defs /><svg width=\"100%\" x=\"0\" y=\"0px\"><defs /><text text-anchor=\"middle\" x=\"50%\" y=\"16px\">is</text></svg><svg width=\"100%\" x=\"0%\" y=\"48px\"><defs /><svg width=\"100%\" x=\"0\" y=\"0px\"><defs /><text text-anchor=\"middle\" x=\"50%\" y=\"16px\">VBZ</text></svg></svg><line stroke=\"black\" x1=\"50%\" x2=\"50%\" y1=\"20px\" y2=\"48px\" /></svg><line stroke=\"black\" x1=\"50%\" x2=\"10%\" y1=\"20px\" y2=\"48px\" /><svg width=\"13.3333%\" x=\"13.3333%\" y=\"48px\"><defs /><svg width=\"100%\" x=\"0\" y=\"0px\"><defs /><text text-anchor=\"middle\" x=\"50%\" y=\"16px\">studying</text></svg><svg width=\"100%\" x=\"0%\" y=\"48px\"><defs /><svg width=\"100%\" x=\"0\" y=\"0px\"><defs /><text text-anchor=\"middle\" x=\"50%\" y=\"16px\">VBG</text></svg></svg><line stroke=\"black\" x1=\"50%\" x2=\"50%\" y1=\"20px\" y2=\"48px\" /></svg><line stroke=\"black\" x1=\"50%\" x2=\"20%\" y1=\"20px\" y2=\"48px\" /><svg width=\"5.33333%\" x=\"26.6667%\" y=\"48px\"><defs /><svg width=\"100%\" x=\"0\" y=\"0px\"><defs /><text text-anchor=\"middle\" x=\"50%\" y=\"16px\">at</text></svg><svg width=\"100%\" x=\"0%\" y=\"48px\"><defs /><svg width=\"100%\" x=\"0\" y=\"0px\"><defs /><text text-anchor=\"middle\" x=\"50%\" y=\"16px\">IN</text></svg></svg><line stroke=\"black\" x1=\"50%\" x2=\"50%\" y1=\"20px\" y2=\"48px\" /></svg><line stroke=\"black\" x1=\"50%\" x2=\"29.3333%\" y1=\"20px\" y2=\"48px\" /><svg width=\"34.6667%\" x=\"32%\" y=\"48px\"><defs /><svg width=\"100%\" x=\"0\" y=\"0px\"><defs /><text text-anchor=\"middle\" x=\"50%\" y=\"16px\">ORGANIZATION</text></svg><svg width=\"26.9231%\" x=\"0%\" y=\"48px\"><defs /><svg width=\"100%\" x=\"0\" y=\"0px\"><defs /><text text-anchor=\"middle\" x=\"50%\" y=\"16px\">Malla</text></svg><svg width=\"100%\" x=\"0%\" y=\"48px\"><defs /><svg width=\"100%\" x=\"0\" y=\"0px\"><defs /><text text-anchor=\"middle\" x=\"50%\" y=\"16px\">NNP</text></svg></svg><line stroke=\"black\" x1=\"50%\" x2=\"50%\" y1=\"20px\" y2=\"48px\" /></svg><line stroke=\"black\" x1=\"50%\" x2=\"13.4615%\" y1=\"20px\" y2=\"48px\" /><svg width=\"26.9231%\" x=\"26.9231%\" y=\"48px\"><defs /><svg width=\"100%\" x=\"0\" y=\"0px\"><defs /><text text-anchor=\"middle\" x=\"50%\" y=\"16px\">Reddy</text></svg><svg width=\"100%\" x=\"0%\" y=\"48px\"><defs /><svg width=\"100%\" x=\"0\" y=\"0px\"><defs /><text text-anchor=\"middle\" x=\"50%\" y=\"16px\">NNP</text></svg></svg><line stroke=\"black\" x1=\"50%\" x2=\"50%\" y1=\"20px\" y2=\"48px\" /></svg><line stroke=\"black\" x1=\"50%\" x2=\"40.3846%\" y1=\"20px\" y2=\"48px\" /><svg width=\"46.1538%\" x=\"53.8462%\" y=\"48px\"><defs /><svg width=\"100%\" x=\"0\" y=\"0px\"><defs /><text text-anchor=\"middle\" x=\"50%\" y=\"16px\">University</text></svg><svg width=\"100%\" x=\"0%\" y=\"48px\"><defs /><svg width=\"100%\" x=\"0\" y=\"0px\"><defs /><text text-anchor=\"middle\" x=\"50%\" y=\"16px\">NNP</text></svg></svg><line stroke=\"black\" x1=\"50%\" x2=\"50%\" y1=\"20px\" y2=\"48px\" /></svg><line stroke=\"black\" x1=\"50%\" x2=\"76.9231%\" y1=\"20px\" y2=\"48px\" /></svg><line stroke=\"black\" x1=\"50%\" x2=\"49.3333%\" y1=\"20px\" y2=\"48px\" /><svg width=\"5.33333%\" x=\"66.6667%\" y=\"48px\"><defs /><svg width=\"100%\" x=\"0\" y=\"0px\"><defs /><text text-anchor=\"middle\" x=\"50%\" y=\"16px\">in</text></svg><svg width=\"100%\" x=\"0%\" y=\"48px\"><defs /><svg width=\"100%\" x=\"0\" y=\"0px\"><defs /><text text-anchor=\"middle\" x=\"50%\" y=\"16px\">IN</text></svg></svg><line stroke=\"black\" x1=\"50%\" x2=\"50%\" y1=\"20px\" y2=\"48px\" /></svg><line stroke=\"black\" x1=\"50%\" x2=\"69.3333%\" y1=\"20px\" y2=\"48px\" /><svg width=\"14.6667%\" x=\"72%\" y=\"48px\"><defs /><svg width=\"100%\" x=\"0\" y=\"0px\"><defs /><text text-anchor=\"middle\" x=\"50%\" y=\"16px\">GPE</text></svg><svg width=\"100%\" x=\"0%\" y=\"48px\"><defs /><svg width=\"100%\" x=\"0\" y=\"0px\"><defs /><text text-anchor=\"middle\" x=\"50%\" y=\"16px\">Hyderabad</text></svg><svg width=\"100%\" x=\"0%\" y=\"48px\"><defs /><svg width=\"100%\" x=\"0\" y=\"0px\"><defs /><text text-anchor=\"middle\" x=\"50%\" y=\"16px\">NNP</text></svg></svg><line stroke=\"black\" x1=\"50%\" x2=\"50%\" y1=\"20px\" y2=\"48px\" /></svg><line stroke=\"black\" x1=\"50%\" x2=\"50%\" y1=\"20px\" y2=\"48px\" /></svg><line stroke=\"black\" x1=\"50%\" x2=\"79.3333%\" y1=\"20px\" y2=\"48px\" /><svg width=\"4%\" x=\"86.6667%\" y=\"48px\"><defs /><svg width=\"100%\" x=\"0\" y=\"0px\"><defs /><text text-anchor=\"middle\" x=\"50%\" y=\"16px\">,</text></svg><svg width=\"100%\" x=\"0%\" y=\"48px\"><defs /><svg width=\"100%\" x=\"0\" y=\"0px\"><defs /><text text-anchor=\"middle\" x=\"50%\" y=\"16px\">,</text></svg></svg><line stroke=\"black\" x1=\"50%\" x2=\"50%\" y1=\"20px\" y2=\"48px\" /></svg><line stroke=\"black\" x1=\"50%\" x2=\"88.6667%\" y1=\"20px\" y2=\"48px\" /><svg width=\"9.33333%\" x=\"90.6667%\" y=\"48px\"><defs /><svg width=\"100%\" x=\"0\" y=\"0px\"><defs /><text text-anchor=\"middle\" x=\"50%\" y=\"16px\">GPE</text></svg><svg width=\"100%\" x=\"0%\" y=\"48px\"><defs /><svg width=\"100%\" x=\"0\" y=\"0px\"><defs /><text text-anchor=\"middle\" x=\"50%\" y=\"16px\">India</text></svg><svg width=\"100%\" x=\"0%\" y=\"48px\"><defs /><svg width=\"100%\" x=\"0\" y=\"0px\"><defs /><text text-anchor=\"middle\" x=\"50%\" y=\"16px\">NNP</text></svg></svg><line stroke=\"black\" x1=\"50%\" x2=\"50%\" y1=\"20px\" y2=\"48px\" /></svg><line stroke=\"black\" x1=\"50%\" x2=\"50%\" y1=\"20px\" y2=\"48px\" /></svg><line stroke=\"black\" x1=\"50%\" x2=\"95.3333%\" y1=\"20px\" y2=\"48px\" /></svg>"
      ],
      "text/plain": [
       "Tree('S', [Tree('GPE', [('Ram', 'NNP')]), ('is', 'VBZ'), ('studying', 'VBG'), ('at', 'IN'), Tree('ORGANIZATION', [('Malla', 'NNP'), ('Reddy', 'NNP'), ('University', 'NNP')]), ('in', 'IN'), Tree('GPE', [('Hyderabad', 'NNP')]), (',', ','), Tree('GPE', [('India', 'NNP')])])"
      ]
     },
     "execution_count": 29,
     "metadata": {},
     "output_type": "execute_result"
    }
   ],
   "source": [
    "#import libraries\n",
    "import nltk\n",
    "from nltk import ne_chunk\n",
    "from nltk import word_tokenize\n",
    "#NER\n",
    "ne_chunk(nltk.pos_tag(word_tokenize(sent)), binary=False)"
   ]
  },
  {
   "cell_type": "code",
   "execution_count": 32,
   "id": "f464810f-82e0-4488-9706-90f49fd94c11",
   "metadata": {},
   "outputs": [
    {
     "name": "stdout",
     "output_type": "stream",
     "text": [
      "Requirement already satisfied: spacy in c:\\users\\devin\\anaconda3\\lib\\site-packages (3.8.4)\n",
      "Requirement already satisfied: spacy-legacy<3.1.0,>=3.0.11 in c:\\users\\devin\\anaconda3\\lib\\site-packages (from spacy) (3.0.12)\n",
      "Requirement already satisfied: spacy-loggers<2.0.0,>=1.0.0 in c:\\users\\devin\\anaconda3\\lib\\site-packages (from spacy) (1.0.5)\n",
      "Requirement already satisfied: murmurhash<1.1.0,>=0.28.0 in c:\\users\\devin\\anaconda3\\lib\\site-packages (from spacy) (1.0.12)\n",
      "Requirement already satisfied: cymem<2.1.0,>=2.0.2 in c:\\users\\devin\\anaconda3\\lib\\site-packages (from spacy) (2.0.11)\n",
      "Requirement already satisfied: preshed<3.1.0,>=3.0.2 in c:\\users\\devin\\anaconda3\\lib\\site-packages (from spacy) (3.0.9)\n",
      "Requirement already satisfied: thinc<8.4.0,>=8.3.4 in c:\\users\\devin\\anaconda3\\lib\\site-packages (from spacy) (8.3.4)\n",
      "Requirement already satisfied: wasabi<1.2.0,>=0.9.1 in c:\\users\\devin\\anaconda3\\lib\\site-packages (from spacy) (1.1.3)\n",
      "Requirement already satisfied: srsly<3.0.0,>=2.4.3 in c:\\users\\devin\\anaconda3\\lib\\site-packages (from spacy) (2.5.1)\n",
      "Requirement already satisfied: catalogue<2.1.0,>=2.0.6 in c:\\users\\devin\\anaconda3\\lib\\site-packages (from spacy) (2.0.10)\n",
      "Requirement already satisfied: weasel<0.5.0,>=0.1.0 in c:\\users\\devin\\anaconda3\\lib\\site-packages (from spacy) (0.4.1)\n",
      "Requirement already satisfied: typer<1.0.0,>=0.3.0 in c:\\users\\devin\\anaconda3\\lib\\site-packages (from spacy) (0.9.0)\n",
      "Requirement already satisfied: tqdm<5.0.0,>=4.38.0 in c:\\users\\devin\\anaconda3\\lib\\site-packages (from spacy) (4.66.5)\n",
      "Requirement already satisfied: numpy>=1.19.0 in c:\\users\\devin\\anaconda3\\lib\\site-packages (from spacy) (1.26.4)\n",
      "Requirement already satisfied: requests<3.0.0,>=2.13.0 in c:\\users\\devin\\anaconda3\\lib\\site-packages (from spacy) (2.32.3)\n",
      "Requirement already satisfied: pydantic!=1.8,!=1.8.1,<3.0.0,>=1.7.4 in c:\\users\\devin\\anaconda3\\lib\\site-packages (from spacy) (2.8.2)\n",
      "Requirement already satisfied: jinja2 in c:\\users\\devin\\anaconda3\\lib\\site-packages (from spacy) (3.1.4)\n",
      "Requirement already satisfied: setuptools in c:\\users\\devin\\anaconda3\\lib\\site-packages (from spacy) (75.1.0)\n",
      "Requirement already satisfied: packaging>=20.0 in c:\\users\\devin\\anaconda3\\lib\\site-packages (from spacy) (24.1)\n",
      "Requirement already satisfied: langcodes<4.0.0,>=3.2.0 in c:\\users\\devin\\anaconda3\\lib\\site-packages (from spacy) (3.5.0)\n",
      "Requirement already satisfied: language-data>=1.2 in c:\\users\\devin\\anaconda3\\lib\\site-packages (from langcodes<4.0.0,>=3.2.0->spacy) (1.3.0)\n",
      "Requirement already satisfied: annotated-types>=0.4.0 in c:\\users\\devin\\anaconda3\\lib\\site-packages (from pydantic!=1.8,!=1.8.1,<3.0.0,>=1.7.4->spacy) (0.6.0)\n",
      "Requirement already satisfied: pydantic-core==2.20.1 in c:\\users\\devin\\anaconda3\\lib\\site-packages (from pydantic!=1.8,!=1.8.1,<3.0.0,>=1.7.4->spacy) (2.20.1)\n",
      "Requirement already satisfied: typing-extensions>=4.6.1 in c:\\users\\devin\\anaconda3\\lib\\site-packages (from pydantic!=1.8,!=1.8.1,<3.0.0,>=1.7.4->spacy) (4.11.0)\n",
      "Requirement already satisfied: charset-normalizer<4,>=2 in c:\\users\\devin\\anaconda3\\lib\\site-packages (from requests<3.0.0,>=2.13.0->spacy) (3.3.2)\n",
      "Requirement already satisfied: idna<4,>=2.5 in c:\\users\\devin\\anaconda3\\lib\\site-packages (from requests<3.0.0,>=2.13.0->spacy) (3.7)\n",
      "Requirement already satisfied: urllib3<3,>=1.21.1 in c:\\users\\devin\\anaconda3\\lib\\site-packages (from requests<3.0.0,>=2.13.0->spacy) (2.2.3)\n",
      "Requirement already satisfied: certifi>=2017.4.17 in c:\\users\\devin\\anaconda3\\lib\\site-packages (from requests<3.0.0,>=2.13.0->spacy) (2024.12.14)\n",
      "Requirement already satisfied: blis<1.3.0,>=1.2.0 in c:\\users\\devin\\anaconda3\\lib\\site-packages (from thinc<8.4.0,>=8.3.4->spacy) (1.2.0)\n",
      "Requirement already satisfied: confection<1.0.0,>=0.0.1 in c:\\users\\devin\\anaconda3\\lib\\site-packages (from thinc<8.4.0,>=8.3.4->spacy) (0.1.5)\n",
      "Requirement already satisfied: colorama in c:\\users\\devin\\anaconda3\\lib\\site-packages (from tqdm<5.0.0,>=4.38.0->spacy) (0.4.6)\n",
      "Requirement already satisfied: click<9.0.0,>=7.1.1 in c:\\users\\devin\\anaconda3\\lib\\site-packages (from typer<1.0.0,>=0.3.0->spacy) (8.1.7)\n",
      "Requirement already satisfied: cloudpathlib<1.0.0,>=0.7.0 in c:\\users\\devin\\anaconda3\\lib\\site-packages (from weasel<0.5.0,>=0.1.0->spacy) (0.20.0)\n",
      "Requirement already satisfied: smart-open<8.0.0,>=5.2.1 in c:\\users\\devin\\anaconda3\\lib\\site-packages (from weasel<0.5.0,>=0.1.0->spacy) (5.2.1)\n",
      "Requirement already satisfied: MarkupSafe>=2.0 in c:\\users\\devin\\anaconda3\\lib\\site-packages (from jinja2->spacy) (2.1.3)\n",
      "Requirement already satisfied: marisa-trie>=1.1.0 in c:\\users\\devin\\anaconda3\\lib\\site-packages (from language-data>=1.2->langcodes<4.0.0,>=3.2.0->spacy) (1.2.1)\n"
     ]
    }
   ],
   "source": [
    "!pip install spacy"
   ]
  },
  {
   "cell_type": "code",
   "execution_count": 34,
   "id": "2c898387-c39d-44eb-ac69-f9c5fe36abf7",
   "metadata": {},
   "outputs": [
    {
     "name": "stdout",
     "output_type": "stream",
     "text": [
      "Collecting en-core-web-sm==3.8.0\n",
      "  Downloading https://github.com/explosion/spacy-models/releases/download/en_core_web_sm-3.8.0/en_core_web_sm-3.8.0-py3-none-any.whl (12.8 MB)\n",
      "     ---------------------------------------- 0.0/12.8 MB ? eta -:--:--\n",
      "     ---------------------------------------- 0.0/12.8 MB ? eta -:--:--\n",
      "      --------------------------------------- 0.3/12.8 MB ? eta -:--:--\n",
      "      --------------------------------------- 0.3/12.8 MB ? eta -:--:--\n",
      "     - ------------------------------------- 0.5/12.8 MB 670.4 kB/s eta 0:00:19\n",
      "     - ------------------------------------- 0.5/12.8 MB 670.4 kB/s eta 0:00:19\n",
      "     - ------------------------------------- 0.5/12.8 MB 670.4 kB/s eta 0:00:19\n",
      "     - ------------------------------------- 0.5/12.8 MB 670.4 kB/s eta 0:00:19\n",
      "     -- ------------------------------------ 0.8/12.8 MB 394.8 kB/s eta 0:00:31\n",
      "     -- ------------------------------------ 0.8/12.8 MB 394.8 kB/s eta 0:00:31\n",
      "     -- ------------------------------------ 0.8/12.8 MB 394.8 kB/s eta 0:00:31\n",
      "     -- ------------------------------------ 0.8/12.8 MB 394.8 kB/s eta 0:00:31\n",
      "     --- ----------------------------------- 1.0/12.8 MB 359.4 kB/s eta 0:00:33\n",
      "     --- ----------------------------------- 1.0/12.8 MB 359.4 kB/s eta 0:00:33\n",
      "     --- ----------------------------------- 1.0/12.8 MB 359.4 kB/s eta 0:00:33\n",
      "     --- ----------------------------------- 1.0/12.8 MB 359.4 kB/s eta 0:00:33\n",
      "     --- ----------------------------------- 1.0/12.8 MB 359.4 kB/s eta 0:00:33\n",
      "     --- ----------------------------------- 1.3/12.8 MB 328.9 kB/s eta 0:00:35\n",
      "     --- ----------------------------------- 1.3/12.8 MB 328.9 kB/s eta 0:00:35\n",
      "     --- ----------------------------------- 1.3/12.8 MB 328.9 kB/s eta 0:00:35\n",
      "     --- ----------------------------------- 1.3/12.8 MB 328.9 kB/s eta 0:00:35\n",
      "     --- ----------------------------------- 1.3/12.8 MB 328.9 kB/s eta 0:00:35\n",
      "     ---- ---------------------------------- 1.6/12.8 MB 317.8 kB/s eta 0:00:36\n",
      "     ---- ---------------------------------- 1.6/12.8 MB 317.8 kB/s eta 0:00:36\n",
      "     ---- ---------------------------------- 1.6/12.8 MB 317.8 kB/s eta 0:00:36\n",
      "     ---- ---------------------------------- 1.6/12.8 MB 317.8 kB/s eta 0:00:36\n",
      "     ---- ---------------------------------- 1.6/12.8 MB 317.8 kB/s eta 0:00:36\n",
      "     ---- ---------------------------------- 1.6/12.8 MB 317.8 kB/s eta 0:00:36\n",
      "     ----- --------------------------------- 1.8/12.8 MB 281.2 kB/s eta 0:00:40\n",
      "     ----- --------------------------------- 1.8/12.8 MB 281.2 kB/s eta 0:00:40\n",
      "     ----- --------------------------------- 1.8/12.8 MB 281.2 kB/s eta 0:00:40\n",
      "     ----- --------------------------------- 1.8/12.8 MB 281.2 kB/s eta 0:00:40\n",
      "     ----- --------------------------------- 1.8/12.8 MB 281.2 kB/s eta 0:00:40\n",
      "     ----- --------------------------------- 1.8/12.8 MB 281.2 kB/s eta 0:00:40\n",
      "     ------ -------------------------------- 2.1/12.8 MB 272.5 kB/s eta 0:00:40\n",
      "     ------ -------------------------------- 2.1/12.8 MB 272.5 kB/s eta 0:00:40\n",
      "     ------ -------------------------------- 2.1/12.8 MB 272.5 kB/s eta 0:00:40\n",
      "     ------ -------------------------------- 2.1/12.8 MB 272.5 kB/s eta 0:00:40\n",
      "     ------ -------------------------------- 2.1/12.8 MB 272.5 kB/s eta 0:00:40\n",
      "     ------ -------------------------------- 2.1/12.8 MB 272.5 kB/s eta 0:00:40\n",
      "     ------ -------------------------------- 2.1/12.8 MB 272.5 kB/s eta 0:00:40\n",
      "     ------ -------------------------------- 2.1/12.8 MB 272.5 kB/s eta 0:00:40\n",
      "     ------ -------------------------------- 2.1/12.8 MB 272.5 kB/s eta 0:00:40\n",
      "     ------ -------------------------------- 2.1/12.8 MB 272.5 kB/s eta 0:00:40\n",
      "     ------ -------------------------------- 2.1/12.8 MB 272.5 kB/s eta 0:00:40\n",
      "     ------ -------------------------------- 2.1/12.8 MB 272.5 kB/s eta 0:00:40\n",
      "     ------ -------------------------------- 2.1/12.8 MB 272.5 kB/s eta 0:00:40\n",
      "     ------- ------------------------------- 2.4/12.8 MB 220.0 kB/s eta 0:00:48\n",
      "     ------- ------------------------------- 2.4/12.8 MB 220.0 kB/s eta 0:00:48\n",
      "     ------- ------------------------------- 2.4/12.8 MB 220.0 kB/s eta 0:00:48\n",
      "     ------- ------------------------------- 2.4/12.8 MB 220.0 kB/s eta 0:00:48\n",
      "     ------- ------------------------------- 2.4/12.8 MB 220.0 kB/s eta 0:00:48\n",
      "     ------- ------------------------------- 2.6/12.8 MB 219.8 kB/s eta 0:00:47\n",
      "     ------- ------------------------------- 2.6/12.8 MB 219.8 kB/s eta 0:00:47\n",
      "     ------- ------------------------------- 2.6/12.8 MB 219.8 kB/s eta 0:00:47\n",
      "     ------- ------------------------------- 2.6/12.8 MB 219.8 kB/s eta 0:00:47\n",
      "     ------- ------------------------------- 2.6/12.8 MB 219.8 kB/s eta 0:00:47\n",
      "     ------- ------------------------------- 2.6/12.8 MB 219.8 kB/s eta 0:00:47\n",
      "     ------- ------------------------------- 2.6/12.8 MB 219.8 kB/s eta 0:00:47\n",
      "     -------- ------------------------------ 2.9/12.8 MB 215.1 kB/s eta 0:00:47\n",
      "     -------- ------------------------------ 2.9/12.8 MB 215.1 kB/s eta 0:00:47\n",
      "     -------- ------------------------------ 2.9/12.8 MB 215.1 kB/s eta 0:00:47\n",
      "     -------- ------------------------------ 2.9/12.8 MB 215.1 kB/s eta 0:00:47\n",
      "     -------- ------------------------------ 2.9/12.8 MB 215.1 kB/s eta 0:00:47\n",
      "     -------- ------------------------------ 2.9/12.8 MB 215.1 kB/s eta 0:00:47\n",
      "     -------- ------------------------------ 2.9/12.8 MB 215.1 kB/s eta 0:00:47\n",
      "     -------- ------------------------------ 2.9/12.8 MB 215.1 kB/s eta 0:00:47\n",
      "     -------- ------------------------------ 2.9/12.8 MB 215.1 kB/s eta 0:00:47\n",
      "     -------- ------------------------------ 2.9/12.8 MB 215.1 kB/s eta 0:00:47\n",
      "     --------- ----------------------------- 3.1/12.8 MB 203.0 kB/s eta 0:00:48\n",
      "     --------- ----------------------------- 3.1/12.8 MB 203.0 kB/s eta 0:00:48\n",
      "     --------- ----------------------------- 3.1/12.8 MB 203.0 kB/s eta 0:00:48\n",
      "     --------- ----------------------------- 3.1/12.8 MB 203.0 kB/s eta 0:00:48\n",
      "     --------- ----------------------------- 3.1/12.8 MB 203.0 kB/s eta 0:00:48\n",
      "     --------- ----------------------------- 3.1/12.8 MB 203.0 kB/s eta 0:00:48\n",
      "     --------- ----------------------------- 3.1/12.8 MB 203.0 kB/s eta 0:00:48\n",
      "     --------- ----------------------------- 3.1/12.8 MB 203.0 kB/s eta 0:00:48\n",
      "     ---------- ---------------------------- 3.4/12.8 MB 196.8 kB/s eta 0:00:48\n",
      "     ---------- ---------------------------- 3.4/12.8 MB 196.8 kB/s eta 0:00:48\n",
      "     ---------- ---------------------------- 3.4/12.8 MB 196.8 kB/s eta 0:00:48\n",
      "     ---------- ---------------------------- 3.4/12.8 MB 196.8 kB/s eta 0:00:48\n",
      "     ---------- ---------------------------- 3.4/12.8 MB 196.8 kB/s eta 0:00:48\n",
      "     ----------- --------------------------- 3.7/12.8 MB 200.3 kB/s eta 0:00:46\n",
      "     ----------- --------------------------- 3.7/12.8 MB 200.3 kB/s eta 0:00:46\n",
      "     ----------- --------------------------- 3.7/12.8 MB 200.3 kB/s eta 0:00:46\n",
      "     ----------- --------------------------- 3.9/12.8 MB 205.9 kB/s eta 0:00:44\n",
      "     ----------- --------------------------- 3.9/12.8 MB 205.9 kB/s eta 0:00:44\n",
      "     ----------- --------------------------- 3.9/12.8 MB 205.9 kB/s eta 0:00:44\n",
      "     ----------- --------------------------- 3.9/12.8 MB 205.9 kB/s eta 0:00:44\n",
      "     ----------- --------------------------- 3.9/12.8 MB 205.9 kB/s eta 0:00:44\n",
      "     ----------- --------------------------- 3.9/12.8 MB 205.9 kB/s eta 0:00:44\n",
      "     ----------- --------------------------- 3.9/12.8 MB 205.9 kB/s eta 0:00:44\n",
      "     ----------- --------------------------- 3.9/12.8 MB 205.9 kB/s eta 0:00:44\n",
      "     ----------- --------------------------- 3.9/12.8 MB 205.9 kB/s eta 0:00:44\n",
      "     ------------ -------------------------- 4.2/12.8 MB 200.0 kB/s eta 0:00:44\n",
      "     ------------ -------------------------- 4.2/12.8 MB 200.0 kB/s eta 0:00:44\n",
      "     ------------ -------------------------- 4.2/12.8 MB 200.0 kB/s eta 0:00:44\n",
      "     ------------ -------------------------- 4.2/12.8 MB 200.0 kB/s eta 0:00:44\n",
      "     ------------ -------------------------- 4.2/12.8 MB 200.0 kB/s eta 0:00:44\n",
      "     ------------- ------------------------- 4.5/12.8 MB 202.3 kB/s eta 0:00:42\n",
      "     ------------- ------------------------- 4.5/12.8 MB 202.3 kB/s eta 0:00:42\n",
      "     ------------- ------------------------- 4.5/12.8 MB 202.3 kB/s eta 0:00:42\n",
      "     ------------- ------------------------- 4.5/12.8 MB 202.3 kB/s eta 0:00:42\n",
      "     ------------- ------------------------- 4.5/12.8 MB 202.3 kB/s eta 0:00:42\n",
      "     ------------- ------------------------- 4.5/12.8 MB 202.3 kB/s eta 0:00:42\n",
      "     -------------- ------------------------ 4.7/12.8 MB 202.6 kB/s eta 0:00:40\n",
      "     -------------- ------------------------ 4.7/12.8 MB 202.6 kB/s eta 0:00:40\n",
      "     -------------- ------------------------ 4.7/12.8 MB 202.6 kB/s eta 0:00:40\n",
      "     -------------- ------------------------ 4.7/12.8 MB 202.6 kB/s eta 0:00:40\n",
      "     --------------- ----------------------- 5.0/12.8 MB 207.0 kB/s eta 0:00:38\n",
      "     --------------- ----------------------- 5.0/12.8 MB 207.0 kB/s eta 0:00:38\n",
      "     --------------- ----------------------- 5.0/12.8 MB 207.0 kB/s eta 0:00:38\n",
      "     --------------- ----------------------- 5.0/12.8 MB 207.0 kB/s eta 0:00:38\n",
      "     --------------- ----------------------- 5.2/12.8 MB 210.4 kB/s eta 0:00:36\n",
      "     --------------- ----------------------- 5.2/12.8 MB 210.4 kB/s eta 0:00:36\n",
      "     --------------- ----------------------- 5.2/12.8 MB 210.4 kB/s eta 0:00:36\n",
      "     --------------- ----------------------- 5.2/12.8 MB 210.4 kB/s eta 0:00:36\n",
      "     ---------------- ---------------------- 5.5/12.8 MB 214.1 kB/s eta 0:00:35\n",
      "     ---------------- ---------------------- 5.5/12.8 MB 214.1 kB/s eta 0:00:35\n",
      "     ---------------- ---------------------- 5.5/12.8 MB 214.1 kB/s eta 0:00:35\n",
      "     ---------------- ---------------------- 5.5/12.8 MB 214.1 kB/s eta 0:00:35\n",
      "     ---------------- ---------------------- 5.5/12.8 MB 214.1 kB/s eta 0:00:35\n",
      "     ----------------- --------------------- 5.8/12.8 MB 213.5 kB/s eta 0:00:33\n",
      "     ----------------- --------------------- 5.8/12.8 MB 213.5 kB/s eta 0:00:33\n",
      "     ----------------- --------------------- 5.8/12.8 MB 213.5 kB/s eta 0:00:33\n",
      "     ----------------- --------------------- 5.8/12.8 MB 213.5 kB/s eta 0:00:33\n",
      "     ----------------- --------------------- 5.8/12.8 MB 213.5 kB/s eta 0:00:33\n",
      "     ------------------ -------------------- 6.0/12.8 MB 215.8 kB/s eta 0:00:32\n",
      "     ------------------ -------------------- 6.0/12.8 MB 215.8 kB/s eta 0:00:32\n",
      "     ------------------ -------------------- 6.0/12.8 MB 215.8 kB/s eta 0:00:32\n",
      "     ------------------ -------------------- 6.0/12.8 MB 215.8 kB/s eta 0:00:32\n",
      "     ------------------ -------------------- 6.0/12.8 MB 215.8 kB/s eta 0:00:32\n",
      "     ------------------ -------------------- 6.0/12.8 MB 215.8 kB/s eta 0:00:32\n",
      "     ------------------ -------------------- 6.0/12.8 MB 215.8 kB/s eta 0:00:32\n",
      "     ------------------- ------------------- 6.3/12.8 MB 213.7 kB/s eta 0:00:31\n",
      "     ------------------- ------------------- 6.3/12.8 MB 213.7 kB/s eta 0:00:31\n",
      "     ------------------- ------------------- 6.3/12.8 MB 213.7 kB/s eta 0:00:31\n",
      "     ------------------- ------------------- 6.3/12.8 MB 213.7 kB/s eta 0:00:31\n",
      "     ------------------- ------------------- 6.3/12.8 MB 213.7 kB/s eta 0:00:31\n",
      "     ------------------- ------------------- 6.6/12.8 MB 215.0 kB/s eta 0:00:30\n",
      "     ------------------- ------------------- 6.6/12.8 MB 215.0 kB/s eta 0:00:30\n",
      "     ------------------- ------------------- 6.6/12.8 MB 215.0 kB/s eta 0:00:30\n",
      "     ------------------- ------------------- 6.6/12.8 MB 215.0 kB/s eta 0:00:30\n",
      "     ------------------- ------------------- 6.6/12.8 MB 215.0 kB/s eta 0:00:30\n",
      "     ------------------- ------------------- 6.6/12.8 MB 215.0 kB/s eta 0:00:30\n",
      "     ------------------- ------------------- 6.6/12.8 MB 215.0 kB/s eta 0:00:30\n",
      "     -------------------- ------------------ 6.8/12.8 MB 204.4 kB/s eta 0:00:30\n",
      "     -------------------- ------------------ 6.8/12.8 MB 204.4 kB/s eta 0:00:30\n",
      "     -------------------- ------------------ 6.8/12.8 MB 204.4 kB/s eta 0:00:30\n",
      "     -------------------- ------------------ 6.8/12.8 MB 204.4 kB/s eta 0:00:30\n",
      "     -------------------- ------------------ 6.8/12.8 MB 204.4 kB/s eta 0:00:30\n",
      "     -------------------- ------------------ 6.8/12.8 MB 204.4 kB/s eta 0:00:30\n",
      "     -------------------- ------------------ 6.8/12.8 MB 204.4 kB/s eta 0:00:30\n",
      "     -------------------- ------------------ 6.8/12.8 MB 204.4 kB/s eta 0:00:30\n",
      "     -------------------- ------------------ 6.8/12.8 MB 204.4 kB/s eta 0:00:30\n",
      "     --------------------- ----------------- 7.1/12.8 MB 195.7 kB/s eta 0:00:30\n",
      "     --------------------- ----------------- 7.1/12.8 MB 195.7 kB/s eta 0:00:30\n",
      "     --------------------- ----------------- 7.1/12.8 MB 195.7 kB/s eta 0:00:30\n",
      "     --------------------- ----------------- 7.1/12.8 MB 195.7 kB/s eta 0:00:30\n",
      "     --------------------- ----------------- 7.1/12.8 MB 195.7 kB/s eta 0:00:30\n",
      "     --------------------- ----------------- 7.1/12.8 MB 195.7 kB/s eta 0:00:30\n",
      "     --------------------- ----------------- 7.1/12.8 MB 195.7 kB/s eta 0:00:30\n",
      "     ---------------------- ---------------- 7.3/12.8 MB 192.5 kB/s eta 0:00:29\n",
      "     ---------------------- ---------------- 7.3/12.8 MB 192.5 kB/s eta 0:00:29\n",
      "     ---------------------- ---------------- 7.3/12.8 MB 192.5 kB/s eta 0:00:29\n",
      "     ---------------------- ---------------- 7.3/12.8 MB 192.5 kB/s eta 0:00:29\n",
      "     ---------------------- ---------------- 7.3/12.8 MB 192.5 kB/s eta 0:00:29\n",
      "     ---------------------- ---------------- 7.3/12.8 MB 192.5 kB/s eta 0:00:29\n",
      "     ---------------------- ---------------- 7.3/12.8 MB 192.5 kB/s eta 0:00:29\n",
      "     ---------------------- ---------------- 7.3/12.8 MB 192.5 kB/s eta 0:00:29\n",
      "     ---------------------- ---------------- 7.3/12.8 MB 192.5 kB/s eta 0:00:29\n",
      "     ---------------------- ---------------- 7.3/12.8 MB 192.5 kB/s eta 0:00:29\n",
      "     ----------------------- --------------- 7.6/12.8 MB 186.4 kB/s eta 0:00:28\n",
      "     ----------------------- --------------- 7.6/12.8 MB 186.4 kB/s eta 0:00:28\n",
      "     ----------------------- --------------- 7.6/12.8 MB 186.4 kB/s eta 0:00:28\n",
      "     ----------------------- --------------- 7.6/12.8 MB 186.4 kB/s eta 0:00:28\n",
      "     ----------------------- --------------- 7.6/12.8 MB 186.4 kB/s eta 0:00:28\n",
      "     ----------------------- --------------- 7.6/12.8 MB 186.4 kB/s eta 0:00:28\n",
      "     ----------------------- --------------- 7.9/12.8 MB 196.5 kB/s eta 0:00:26\n",
      "     ----------------------- --------------- 7.9/12.8 MB 196.5 kB/s eta 0:00:26\n",
      "     ----------------------- --------------- 7.9/12.8 MB 196.5 kB/s eta 0:00:26\n",
      "     ----------------------- --------------- 7.9/12.8 MB 196.5 kB/s eta 0:00:26\n",
      "     ----------------------- --------------- 7.9/12.8 MB 196.5 kB/s eta 0:00:26\n",
      "     ----------------------- --------------- 7.9/12.8 MB 196.5 kB/s eta 0:00:26\n",
      "     ------------------------ -------------- 8.1/12.8 MB 196.9 kB/s eta 0:00:24\n",
      "     ------------------------ -------------- 8.1/12.8 MB 196.9 kB/s eta 0:00:24\n",
      "     ------------------------ -------------- 8.1/12.8 MB 196.9 kB/s eta 0:00:24\n",
      "     ------------------------ -------------- 8.1/12.8 MB 196.9 kB/s eta 0:00:24\n",
      "     ------------------------ -------------- 8.1/12.8 MB 196.9 kB/s eta 0:00:24\n",
      "     ------------------------ -------------- 8.1/12.8 MB 196.9 kB/s eta 0:00:24\n",
      "     ------------------------ -------------- 8.1/12.8 MB 196.9 kB/s eta 0:00:24\n",
      "     ------------------------- ------------- 8.4/12.8 MB 194.7 kB/s eta 0:00:23\n",
      "     ------------------------- ------------- 8.4/12.8 MB 194.7 kB/s eta 0:00:23\n",
      "     ------------------------- ------------- 8.4/12.8 MB 194.7 kB/s eta 0:00:23\n",
      "     ------------------------- ------------- 8.4/12.8 MB 194.7 kB/s eta 0:00:23\n",
      "     ------------------------- ------------- 8.4/12.8 MB 194.7 kB/s eta 0:00:23\n",
      "     ------------------------- ------------- 8.4/12.8 MB 194.7 kB/s eta 0:00:23\n",
      "     ------------------------- ------------- 8.4/12.8 MB 194.7 kB/s eta 0:00:23\n",
      "     ------------------------- ------------- 8.4/12.8 MB 194.7 kB/s eta 0:00:23\n",
      "     ------------------------- ------------- 8.4/12.8 MB 194.7 kB/s eta 0:00:23\n",
      "     -------------------------- ------------ 8.7/12.8 MB 196.2 kB/s eta 0:00:22\n",
      "     -------------------------- ------------ 8.7/12.8 MB 196.2 kB/s eta 0:00:22\n",
      "     -------------------------- ------------ 8.7/12.8 MB 196.2 kB/s eta 0:00:22\n",
      "     -------------------------- ------------ 8.7/12.8 MB 196.2 kB/s eta 0:00:22\n",
      "     -------------------------- ------------ 8.7/12.8 MB 196.2 kB/s eta 0:00:22\n",
      "     -------------------------- ------------ 8.7/12.8 MB 196.2 kB/s eta 0:00:22\n",
      "     -------------------------- ------------ 8.7/12.8 MB 196.2 kB/s eta 0:00:22\n",
      "     -------------------------- ------------ 8.7/12.8 MB 196.2 kB/s eta 0:00:22\n",
      "     -------------------------- ------------ 8.7/12.8 MB 196.2 kB/s eta 0:00:22\n",
      "     -------------------------- ------------ 8.7/12.8 MB 196.2 kB/s eta 0:00:22\n",
      "     --------------------------- ----------- 8.9/12.8 MB 193.6 kB/s eta 0:00:21\n",
      "     --------------------------- ----------- 8.9/12.8 MB 193.6 kB/s eta 0:00:21\n",
      "     --------------------------- ----------- 8.9/12.8 MB 193.6 kB/s eta 0:00:21\n",
      "     --------------------------- ----------- 8.9/12.8 MB 193.6 kB/s eta 0:00:21\n",
      "     --------------------------- ----------- 8.9/12.8 MB 193.6 kB/s eta 0:00:21\n",
      "     --------------------------- ----------- 8.9/12.8 MB 193.6 kB/s eta 0:00:21\n",
      "     --------------------------- ----------- 8.9/12.8 MB 193.6 kB/s eta 0:00:21\n",
      "     --------------------------- ----------- 8.9/12.8 MB 193.6 kB/s eta 0:00:21\n",
      "     --------------------------- ----------- 9.2/12.8 MB 188.8 kB/s eta 0:00:20\n",
      "     --------------------------- ----------- 9.2/12.8 MB 188.8 kB/s eta 0:00:20\n",
      "     --------------------------- ----------- 9.2/12.8 MB 188.8 kB/s eta 0:00:20\n",
      "     --------------------------- ----------- 9.2/12.8 MB 188.8 kB/s eta 0:00:20\n",
      "     --------------------------- ----------- 9.2/12.8 MB 188.8 kB/s eta 0:00:20\n",
      "     --------------------------- ----------- 9.2/12.8 MB 188.8 kB/s eta 0:00:20\n",
      "     --------------------------- ----------- 9.2/12.8 MB 188.8 kB/s eta 0:00:20\n",
      "     --------------------------- ----------- 9.2/12.8 MB 188.8 kB/s eta 0:00:20\n",
      "     --------------------------- ----------- 9.2/12.8 MB 188.8 kB/s eta 0:00:20\n",
      "     --------------------------- ----------- 9.2/12.8 MB 188.8 kB/s eta 0:00:20\n",
      "     --------------------------- ----------- 9.2/12.8 MB 188.8 kB/s eta 0:00:20\n",
      "     ---------------------------- ---------- 9.4/12.8 MB 182.6 kB/s eta 0:00:19\n",
      "     ---------------------------- ---------- 9.4/12.8 MB 182.6 kB/s eta 0:00:19\n",
      "     ---------------------------- ---------- 9.4/12.8 MB 182.6 kB/s eta 0:00:19\n",
      "     ---------------------------- ---------- 9.4/12.8 MB 182.6 kB/s eta 0:00:19\n",
      "     ---------------------------- ---------- 9.4/12.8 MB 182.6 kB/s eta 0:00:19\n",
      "     ---------------------------- ---------- 9.4/12.8 MB 182.6 kB/s eta 0:00:19\n",
      "     ---------------------------- ---------- 9.4/12.8 MB 182.6 kB/s eta 0:00:19\n",
      "     ---------------------------- ---------- 9.4/12.8 MB 182.6 kB/s eta 0:00:19\n",
      "     ----------------------------- --------- 9.7/12.8 MB 178.5 kB/s eta 0:00:18\n",
      "     ----------------------------- --------- 9.7/12.8 MB 178.5 kB/s eta 0:00:18\n",
      "     ----------------------------- --------- 9.7/12.8 MB 178.5 kB/s eta 0:00:18\n",
      "     ----------------------------- --------- 9.7/12.8 MB 178.5 kB/s eta 0:00:18\n",
      "     ----------------------------- --------- 9.7/12.8 MB 178.5 kB/s eta 0:00:18\n",
      "     ----------------------------- --------- 9.7/12.8 MB 178.5 kB/s eta 0:00:18\n",
      "     ----------------------------- --------- 9.7/12.8 MB 178.5 kB/s eta 0:00:18\n",
      "     ----------------------------- --------- 9.7/12.8 MB 178.5 kB/s eta 0:00:18\n",
      "     ----------------------------- -------- 10.0/12.8 MB 175.8 kB/s eta 0:00:17\n",
      "     ----------------------------- -------- 10.0/12.8 MB 175.8 kB/s eta 0:00:17\n",
      "     ----------------------------- -------- 10.0/12.8 MB 175.8 kB/s eta 0:00:17\n",
      "     ----------------------------- -------- 10.0/12.8 MB 175.8 kB/s eta 0:00:17\n",
      "     ----------------------------- -------- 10.0/12.8 MB 175.8 kB/s eta 0:00:17\n",
      "     ----------------------------- -------- 10.0/12.8 MB 175.8 kB/s eta 0:00:17\n",
      "     ----------------------------- -------- 10.0/12.8 MB 175.8 kB/s eta 0:00:17\n",
      "     ------------------------------ ------- 10.2/12.8 MB 168.3 kB/s eta 0:00:16\n",
      "     ------------------------------ ------- 10.2/12.8 MB 168.3 kB/s eta 0:00:16\n",
      "     ------------------------------ ------- 10.2/12.8 MB 168.3 kB/s eta 0:00:16\n",
      "     ------------------------------ ------- 10.2/12.8 MB 168.3 kB/s eta 0:00:16\n",
      "     ------------------------------ ------- 10.2/12.8 MB 168.3 kB/s eta 0:00:16\n",
      "     ------------------------------ ------- 10.2/12.8 MB 168.3 kB/s eta 0:00:16\n",
      "     ------------------------------ ------- 10.2/12.8 MB 168.3 kB/s eta 0:00:16\n",
      "     ------------------------------- ------ 10.5/12.8 MB 163.5 kB/s eta 0:00:15\n",
      "     ------------------------------- ------ 10.5/12.8 MB 163.5 kB/s eta 0:00:15\n",
      "     ------------------------------- ------ 10.5/12.8 MB 163.5 kB/s eta 0:00:15\n",
      "     ------------------------------- ------ 10.7/12.8 MB 168.4 kB/s eta 0:00:13\n",
      "     ------------------------------- ------ 10.7/12.8 MB 168.4 kB/s eta 0:00:13\n",
      "     -------------------------------- ----- 11.0/12.8 MB 170.7 kB/s eta 0:00:11\n",
      "     -------------------------------- ----- 11.0/12.8 MB 170.7 kB/s eta 0:00:11\n",
      "     -------------------------------- ----- 11.0/12.8 MB 170.7 kB/s eta 0:00:11\n",
      "     --------------------------------- ---- 11.3/12.8 MB 176.9 kB/s eta 0:00:09\n",
      "     --------------------------------- ---- 11.3/12.8 MB 176.9 kB/s eta 0:00:09\n",
      "     --------------------------------- ---- 11.3/12.8 MB 176.9 kB/s eta 0:00:09\n",
      "     --------------------------------- ---- 11.3/12.8 MB 176.9 kB/s eta 0:00:09\n",
      "     --------------------------------- ---- 11.3/12.8 MB 176.9 kB/s eta 0:00:09\n",
      "     ---------------------------------- --- 11.5/12.8 MB 179.1 kB/s eta 0:00:08\n",
      "     ---------------------------------- --- 11.5/12.8 MB 179.1 kB/s eta 0:00:08\n",
      "     ---------------------------------- --- 11.5/12.8 MB 179.1 kB/s eta 0:00:08\n",
      "     ---------------------------------- --- 11.5/12.8 MB 179.1 kB/s eta 0:00:08\n",
      "     ---------------------------------- --- 11.5/12.8 MB 179.1 kB/s eta 0:00:08\n",
      "     ---------------------------------- --- 11.5/12.8 MB 179.1 kB/s eta 0:00:08\n",
      "     ---------------------------------- --- 11.5/12.8 MB 179.1 kB/s eta 0:00:08\n",
      "     ---------------------------------- --- 11.5/12.8 MB 179.1 kB/s eta 0:00:08\n",
      "     ---------------------------------- --- 11.5/12.8 MB 179.1 kB/s eta 0:00:08\n",
      "     ----------------------------------- -- 11.8/12.8 MB 174.6 kB/s eta 0:00:06\n",
      "     ----------------------------------- -- 11.8/12.8 MB 174.6 kB/s eta 0:00:06\n",
      "     ----------------------------------- -- 11.8/12.8 MB 174.6 kB/s eta 0:00:06\n",
      "     ----------------------------------- -- 11.8/12.8 MB 174.6 kB/s eta 0:00:06\n",
      "     ----------------------------------- -- 11.8/12.8 MB 174.6 kB/s eta 0:00:06\n",
      "     ----------------------------------- -- 11.8/12.8 MB 174.6 kB/s eta 0:00:06\n",
      "     ----------------------------------- -- 11.8/12.8 MB 174.6 kB/s eta 0:00:06\n",
      "     ----------------------------------- -- 11.8/12.8 MB 174.6 kB/s eta 0:00:06\n",
      "     ----------------------------------- -- 11.8/12.8 MB 174.6 kB/s eta 0:00:06\n",
      "     ----------------------------------- -- 11.8/12.8 MB 174.6 kB/s eta 0:00:06\n",
      "     ----------------------------------- -- 11.8/12.8 MB 174.6 kB/s eta 0:00:06\n",
      "     ----------------------------------- -- 12.1/12.8 MB 171.0 kB/s eta 0:00:05\n",
      "     ----------------------------------- -- 12.1/12.8 MB 171.0 kB/s eta 0:00:05\n",
      "     ----------------------------------- -- 12.1/12.8 MB 171.0 kB/s eta 0:00:05\n",
      "     ----------------------------------- -- 12.1/12.8 MB 171.0 kB/s eta 0:00:05\n",
      "     ----------------------------------- -- 12.1/12.8 MB 171.0 kB/s eta 0:00:05\n",
      "     ----------------------------------- -- 12.1/12.8 MB 171.0 kB/s eta 0:00:05\n",
      "     ----------------------------------- -- 12.1/12.8 MB 171.0 kB/s eta 0:00:05\n",
      "     ------------------------------------ - 12.3/12.8 MB 171.7 kB/s eta 0:00:03\n",
      "     ------------------------------------ - 12.3/12.8 MB 171.7 kB/s eta 0:00:03\n",
      "     ------------------------------------ - 12.3/12.8 MB 171.7 kB/s eta 0:00:03\n",
      "     ------------------------------------ - 12.3/12.8 MB 171.7 kB/s eta 0:00:03\n",
      "     ------------------------------------ - 12.3/12.8 MB 171.7 kB/s eta 0:00:03\n",
      "     -------------------------------------  12.6/12.8 MB 177.4 kB/s eta 0:00:02\n",
      "     -------------------------------------  12.6/12.8 MB 177.4 kB/s eta 0:00:02\n",
      "     -------------------------------------  12.6/12.8 MB 177.4 kB/s eta 0:00:02\n",
      "     -------------------------------------  12.6/12.8 MB 177.4 kB/s eta 0:00:02\n",
      "     -------------------------------------- 12.8/12.8 MB 180.7 kB/s eta 0:00:00\n",
      "\u001b[38;5;2m[+] Download and installation successful\u001b[0m\n",
      "You can now load the package via spacy.load('en_core_web_sm')\n"
     ]
    }
   ],
   "source": [
    "!python -m spacy download en_core_web_sm"
   ]
  },
  {
   "cell_type": "code",
   "execution_count": 35,
   "id": "66137f33-07c2-40da-8681-6f71f8c9ad19",
   "metadata": {},
   "outputs": [
    {
     "name": "stdout",
     "output_type": "stream",
     "text": [
      "Apple 0 5 ORG\n",
      "1000 42 46 MONEY\n",
      "New york 50 58 GPE\n"
     ]
    }
   ],
   "source": [
    "import spacy\n",
    "nlp = spacy.load('en_core_web_sm')\n",
    "doc = nlp(u'Apple is ready to launch new phone worth $1000 in New york time square ')\n",
    "for ent in doc.ents:\n",
    "    print(ent.text, ent.start_char, ent.end_char, ent.label_)"
   ]
  },
  {
   "cell_type": "code",
   "execution_count": 42,
   "id": "a863c01a-8074-4a04-8299-971b815822c5",
   "metadata": {},
   "outputs": [],
   "source": [
    "import spacy\n",
    "nlp = spacy.load(\"en_core_web_sm\")\n",
    "                 "
   ]
  },
  {
   "cell_type": "code",
   "execution_count": 44,
   "id": "0e320b5f-9dd0-44ad-ac84-460dd8f2b3f1",
   "metadata": {},
   "outputs": [],
   "source": [
    "text = \"\"\"\n",
    "Elon Musk is a billionaire entrepreneur, inventor, \n",
    "and business magnate known for his work in technology and space exploration. He is the CEO of Tesla, which produces electric vehicles and renewable energy solutions, and SpaceX, a company revolutionizing space travel with reusable \n",
    "rockets and ambitious missions to Mars.\n",
    "\"\"\""
   ]
  },
  {
   "cell_type": "code",
   "execution_count": 46,
   "id": "6f58b08f-5b66-4c12-86b8-41db1786e8d7",
   "metadata": {},
   "outputs": [
    {
     "name": "stdout",
     "output_type": "stream",
     "text": [
      "Entity: Elon Musk, Label: PERSON\n",
      "Entity: Tesla, Label: ORG\n",
      "Entity: SpaceX, Label: PERSON\n",
      "Entity: Mars, Label: LOC\n"
     ]
    }
   ],
   "source": [
    "doc = nlp(text)\n",
    "for ent in doc.ents:\n",
    "    print(f\"Entity: {ent.text}, Label: {ent.label_}\")"
   ]
  },
  {
   "cell_type": "code",
   "execution_count": 4,
   "id": "87594fd4-fc86-4883-a2c2-0033a19d2753",
   "metadata": {},
   "outputs": [
    {
     "ename": "NameError",
     "evalue": "name 'doc' is not defined",
     "output_type": "error",
     "traceback": [
      "\u001b[1;31m---------------------------------------------------------------------------\u001b[0m",
      "\u001b[1;31mNameError\u001b[0m                                 Traceback (most recent call last)",
      "Cell \u001b[1;32mIn[4], line 2\u001b[0m\n\u001b[0;32m      1\u001b[0m \u001b[38;5;28;01mfrom\u001b[39;00m \u001b[38;5;21;01mspacy\u001b[39;00m \u001b[38;5;28;01mimport\u001b[39;00m displacy\n\u001b[1;32m----> 2\u001b[0m displacy\u001b[38;5;241m.\u001b[39mrender(doc, style\u001b[38;5;241m=\u001b[39m\u001b[38;5;124m\"\u001b[39m\u001b[38;5;124ment\u001b[39m\u001b[38;5;124m\"\u001b[39m)\n",
      "\u001b[1;31mNameError\u001b[0m: name 'doc' is not defined"
     ]
    }
   ],
   "source": [
    "from spacy import displacy\n",
    "displacy.render(doc, style=\"ent\")"
   ]
  },
  {
   "cell_type": "code",
   "execution_count": null,
   "id": "7181725f-d360-4e24-98e5-5c01ea99e096",
   "metadata": {},
   "outputs": [],
   "source": []
  }
 ],
 "metadata": {
  "kernelspec": {
   "display_name": "Python [conda env:base] *",
   "language": "python",
   "name": "conda-base-py"
  },
  "language_info": {
   "codemirror_mode": {
    "name": "ipython",
    "version": 3
   },
   "file_extension": ".py",
   "mimetype": "text/x-python",
   "name": "python",
   "nbconvert_exporter": "python",
   "pygments_lexer": "ipython3",
   "version": "3.12.7"
  }
 },
 "nbformat": 4,
 "nbformat_minor": 5
}
