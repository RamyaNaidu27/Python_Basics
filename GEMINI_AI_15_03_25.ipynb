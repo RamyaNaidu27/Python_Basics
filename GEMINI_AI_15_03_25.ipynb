{
  "nbformat": 4,
  "nbformat_minor": 0,
  "metadata": {
    "colab": {
      "provenance": []
    },
    "kernelspec": {
      "name": "python3",
      "display_name": "Python 3"
    },
    "language_info": {
      "name": "python"
    }
  },
  "cells": [
    {
      "cell_type": "code",
      "execution_count": 1,
      "metadata": {
        "id": "eTmJvuuWgSGt"
      },
      "outputs": [],
      "source": [
        "import google.generativeai as genai\n",
        "from google.colab import userdata\n",
        "GOOGLE_API_KEY=userdata.get('GOOGLE_API_KEY')\n",
        "genai.configure(api_key=GOOGLE_API_KEY)"
      ]
    },
    {
      "cell_type": "code",
      "source": [
        "pip install PyPDF2"
      ],
      "metadata": {
        "colab": {
          "base_uri": "https://localhost:8080/"
        },
        "id": "_y-ZpHt8gxUC",
        "outputId": "4150c552-cb5d-408d-8a8c-f9ec80d22825"
      },
      "execution_count": 13,
      "outputs": [
        {
          "output_type": "stream",
          "name": "stdout",
          "text": [
            "Requirement already satisfied: PyPDF2 in /usr/local/lib/python3.11/dist-packages (3.0.1)\n"
          ]
        }
      ]
    },
    {
      "cell_type": "code",
      "source": [
        "import PyPDF2\n",
        "def extract_text_from_pdf(pdf_path):\n",
        "  \"\"\"Extracts text from a given health report PDF using PyPDF2.\"\"\"\n",
        "  text = \"\"\n",
        "  with open(pdf_path, \"rb\") as file:\n",
        "    reader = PyPDF2.PdfReader(file)\n",
        "    for page in reader.pages:\n",
        "      text += page.extract_text()  + \"\\n\"\n",
        "  return text"
      ],
      "metadata": {
        "id": "3rPgfRu_hCz4"
      },
      "execution_count": 2,
      "outputs": []
    },
    {
      "cell_type": "code",
      "source": [
        "def extract_health_insights(text):\n",
        "  \"\"\"Asks Gemini AI to extract key medical insights from the report.\"\"\"\n",
        "  model = genai.GenerativeModel(\"gemini-1.5-flash\")\n",
        "  prompt = f\"Extract key insights from the following health report:\\n\\n{text}\"\n",
        "  response = model.generate_content(prompt)\n",
        "  return response.text\n",
        "pdf_file = \"health_report.pdf\"\n",
        "extracted_text = extract_text_from_pdf(pdf_file)\n",
        "insights = extract_health_insights(extracted_text)\n",
        "print(\"Key Insights:\\n\", insights)\n"
      ],
      "metadata": {
        "colab": {
          "base_uri": "https://localhost:8080/",
          "height": 505
        },
        "id": "UsvlkunghCif",
        "outputId": "548dff5a-aaac-47c5-98d1-565ac77c8e7f"
      },
      "execution_count": 4,
      "outputs": [
        {
          "output_type": "stream",
          "name": "stdout",
          "text": [
            "Key Insights:\n",
            " Key Insights from Mr. Kishan Goud's Health Report (MR2100003157):\n",
            "\n",
            "**Infectious Diseases:**\n",
            "\n",
            "* **Widal Test:** Elevated titers for *Salmonella Typhi* \"O\" (1:160) and \"H\" (1:80) suggest a possible past or present typhoid infection.  The reference range is 1:20, indicating a positive result.  *Salmonella Paratyphi* \"AH\" and \"BH\" titers were within the normal range.\n",
            "* **Dengue Serology:**  Negative for Dengue NS1 antigen, IgG, and IgM antibodies, ruling out a recent or past dengue infection.\n",
            "* **Malaria:** Negative for both *Plasmodium falciparum* and *Plasmodium vivax*, excluding malaria.\n",
            "\n",
            "**Hematology:**\n",
            "\n",
            "* **Complete Blood Picture (CBC):**  All blood parameters (Hemoglobin, RBC, WBC, Platelets, PCV) are within the normal range. Differential count also shows normal ranges for neutrophils, lymphocytes, eosinophils, monocytes, and basophils.\n",
            "* **Erythrocyte Sedimentation Rate (ESR):** Elevated (26 mm/hr in the first hour, 52 mm/hr in the second hour) indicating inflammation or infection.  This correlates with the elevated Widal test result.\n",
            "\n",
            "**Blood Chemistry:**\n",
            "\n",
            "* **Liver Function Tests (LFTs):** All liver enzymes (SGOT, SGPT, Alkaline Phosphatase, Bilirubin) are within the normal range, indicating normal liver function. Total protein and albumin are within normal limits.\n",
            "* **Serum Electrolytes:** Sodium (122 mmol/l) is slightly low, potassium is within normal range, and chloride (97 mmol/l) is slightly low.  Further investigation may be warranted for the low sodium and chloride levels.\n",
            "* **Renal Function:** Serum creatinine (0.8 mg/dl) is within the normal range, suggesting normal kidney function.\n",
            "* **Blood Glucose:** Random blood glucose levels were not reported in the provided text.\n",
            "* **HbA1c:**  5.4%, within the normal non-diabetic range (4-6%), indicating good blood sugar control.\n",
            "\n",
            "\n",
            "**Overall:**\n",
            "\n",
            "The report shows evidence of a possible past or present typhoid fever infection (indicated by the Widal test) and a mild inflammatory process (indicated by the elevated ESR).  The low sodium and chloride levels warrant further investigation.  All other tests for infectious diseases and organ function were within normal limits.  The patient's age and symptoms would need to be considered to fully interpret these results.  A clinician's interpretation is crucial, as this is just a lab report.\n",
            "\n"
          ]
        }
      ]
    },
    {
      "cell_type": "code",
      "source": [
        "def summarize_health_report(extracted_text):\n",
        "  \"\"\"Summarizes the health report using Gemini AI.\"\"\"\n",
        "  model = genai.GenerativeModel(\"gemini-1.5-flash\")\n",
        "  prompt = f\"Summarize the following health report:\\n\\n{extracted_text}\"\n",
        "  response = model.generate_content(prompt)\n",
        "  return response.text\n",
        "summary = summarize_health_report(extracted_text)\n",
        "print(\"Summary:\\n\", summary)\n"
      ],
      "metadata": {
        "colab": {
          "base_uri": "https://localhost:8080/",
          "height": 471
        },
        "id": "UqpbTZGYl72Q",
        "outputId": "d7e48fd9-9031-46ee-ac72-3d67cd2061e7"
      },
      "execution_count": 5,
      "outputs": [
        {
          "output_type": "stream",
          "name": "stdout",
          "text": [
            "Summary:\n",
            " Mr. Kishan Goud's (MR2100003157) health report from January 2, 2021, shows the following:\n",
            "\n",
            "**Widal Test:** Elevated titers for *Salmonella Typhi* \"O\" (1:160) and \"H\" (1:80), suggesting possible *Salmonella Typhi* infection.  *Salmonella Paratyphi* AH and BH titers were within the normal range.\n",
            "\n",
            "**Dengue Serology:** Negative for Dengue NS1 antigen, IgG, and IgM antibodies.\n",
            "\n",
            "**Erythrocyte Sedimentation Rate (ESR):** Elevated (26 mm/hr in the first hour, 52 mm/hr in the second hour), indicating inflammation.\n",
            "\n",
            "**Rapid Malaria Test:** Negative for both *Plasmodium falciparum* and *Plasmodium vivax*.\n",
            "\n",
            "**Complete Blood Picture (CBC):**  Hemoglobin, RBC, WBC, platelets, and PCV were within or near the normal range. Differential count showed normal ranges for neutrophils, lymphocytes, eosinophils, monocytes, and basophils.  Peripheral blood smear showed normocytic/normochromic RBCs and WBCs within normal limits.\n",
            "\n",
            "**HbA1c:** 5.4%, within the normal non-diabetic range.\n",
            "\n",
            "**Serum Creatinine:** 0.8 mg/dl, within the normal range.\n",
            "\n",
            "**Random Blood Glucose:** Result not provided in the text.\n",
            "\n",
            "**Liver Function Test (LFT):**  All values (bilirubin - total, direct, indirect; alkaline phosphatase; SGOT; SGPT; total protein; albumin; globulin; A/G ratio) were within or near the normal range.\n",
            "\n",
            "**Serum Electrolytes:** Sodium (122 mmol/l) was slightly below the normal range; potassium and chloride were within normal limits.\n",
            "\n",
            "**Overall:** While the Widal test suggests a possible *Salmonella Typhi* infection, the elevated ESR indicates inflammation.  All other tests, including those for dengue and malaria, were negative.  Many liver function tests and other blood tests came back within normal ranges, however, sodium was slightly low.  Further investigation may be needed to determine the cause of the inflammation.\n",
            "\n"
          ]
        }
      ]
    },
    {
      "cell_type": "code",
      "source": [
        "def detect_abnormalities(text):\n",
        "  \"\"\"Analyze lab test results and flags abnormal values.\"\"\"\n",
        "  model = genai.GenerativeModel(\"gemini-1.5-flash\")\n",
        "  prompt = f\"Analyze the lab testresults in the following health report and highlight any abnormal values:\\n\\n{text}\"\n",
        "  response = model.generate_content(prompt)\n",
        "  return reponse.text\n",
        "abnormalities"
      ],
      "metadata": {
        "id": "qMWsFzTKoMN_"
      },
      "execution_count": null,
      "outputs": []
    },
    {
      "cell_type": "code",
      "source": [
        "def"
      ],
      "metadata": {
        "id": "LFLUWy3YsSWI"
      },
      "execution_count": null,
      "outputs": []
    }
  ]
}