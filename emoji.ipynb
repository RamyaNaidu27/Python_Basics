{
 "cells": [
  {
   "cell_type": "code",
   "execution_count": null,
   "id": "7824b775-c595-4ff6-8fc0-aa1495e1775d",
   "metadata": {},
   "outputs": [],
   "source": [
    "#Installing emot library\n"
   ]
  },
  {
   "cell_type": "code",
   "execution_count": 4,
   "id": "8d20c599-89de-417b-a2f3-f6a5f4093d9b",
   "metadata": {},
   "outputs": [
    {
     "name": "stdout",
     "output_type": "stream",
     "text": [
      "Collecting emot\n",
      "  Downloading emot-3.1-py3-none-any.whl.metadata (396 bytes)\n",
      "Downloading emot-3.1-py3-none-any.whl (61 kB)\n",
      "Installing collected packages: emot\n",
      "Successfully installed emot-3.1\n"
     ]
    }
   ],
   "source": [
    "!pip install emot"
   ]
  },
  {
   "cell_type": "code",
   "execution_count": 6,
   "id": "60e27b26-a581-44ac-8e95-cf7b18482a4d",
   "metadata": {},
   "outputs": [],
   "source": [
    "text1 = \"What are you Saying😂.I am the boss😎,and why are you so 😑\""
   ]
  },
  {
   "cell_type": "code",
   "execution_count": 8,
   "id": "514c312c-1103-4df1-b1f0-6288f93a36b1",
   "metadata": {},
   "outputs": [],
   "source": [
    "import re\n",
    "from emot.emo_unicode import UNICODE_EMOJI\n",
    "from emot.emo_unicode import EMOTICONS_EMO"
   ]
  },
  {
   "cell_type": "code",
   "execution_count": 10,
   "id": "6cf2ef7f-31ca-4000-bc2e-a8d2760c94d4",
   "metadata": {},
   "outputs": [
    {
     "data": {
      "text/plain": [
       "'What are you Saying😂.I am the boss😎,and why are you so 😑'"
      ]
     },
     "execution_count": 10,
     "metadata": {},
     "output_type": "execute_result"
    }
   ],
   "source": [
    "def converting_emojis(text):\n",
    "    for emot in UNICODE_EMOJI:\n",
    "        text = text.replace(emot, \"-\".join(UNICODE_EMOJI[emot].replace(\",\",\"\")\\\n",
    "                            .replace(\":\",\"\").split()))\n",
    "        return text\n",
    "converting_emojis(text1)"
   ]
  },
  {
   "cell_type": "code",
   "execution_count": 20,
   "id": "1d128d15-0b11-4ff2-b964-b88bb5fddb76",
   "metadata": {},
   "outputs": [
    {
     "data": {
      "text/plain": [
       "'What are you Saying.I am the boss,and why are you so '"
      ]
     },
     "execution_count": 20,
     "metadata": {},
     "output_type": "execute_result"
    }
   ],
   "source": [
    "def emoji_removal(string):\n",
    "    emoji_unicodes = re.compile(\"[\"\n",
    "        u\"\\U0001F600-\\U0001F64F\"  # emoticons\n",
    "        u\"\\U0001F300-\\U0001F5FF\"  # symbols\n",
    "        u\"\\U0001F680-\\U0001F6FF\"  # transport\n",
    "        u\"\\U0001F1E0-\\U0001F1FF\"  # flags (iOS)\n",
    "        u\"\\U00002500-\\U00002BEF\"\n",
    "        u\"\\U00002702-\\U000027B0\"\n",
    "        u\"\\U000024C2-\\U0001F251\"\n",
    "        u\"\\U0001f926-\\U0001f937\"\n",
    "        u\"\\U00010000-\\U0010ffff\"\n",
    "    u\"\\u2640-\\u2642\"\n",
    "    u\"\\u2600-\\u2B55\"\n",
    "    u\"\\u200d\"\n",
    "    u\"\\u23cf\"\n",
    "    u\"\\u23e9\"\n",
    "    u\"\\u231a\"\n",
    "    u\"\\ufe0f\"\n",
    "        u\"\\u3030\"\n",
    "    \"]+\", flags=re.UNICODE)\n",
    "    return emoji_unicodes.sub(r'', string)\n",
    "\n",
    "emoji_removal(text1)\n"
   ]
  },
  {
   "cell_type": "code",
   "execution_count": null,
   "id": "ccfc8aa5-d3d2-4039-ad82-c6968efd1512",
   "metadata": {},
   "outputs": [],
   "source": []
  }
 ],
 "metadata": {
  "kernelspec": {
   "display_name": "Python [conda env:base] *",
   "language": "python",
   "name": "conda-base-py"
  },
  "language_info": {
   "codemirror_mode": {
    "name": "ipython",
    "version": 3
   },
   "file_extension": ".py",
   "mimetype": "text/x-python",
   "name": "python",
   "nbconvert_exporter": "python",
   "pygments_lexer": "ipython3",
   "version": "3.12.7"
  }
 },
 "nbformat": 4,
 "nbformat_minor": 5
}
