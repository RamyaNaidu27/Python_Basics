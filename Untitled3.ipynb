{
 "cells": [
  {
   "cell_type": "code",
   "execution_count": 1,
   "id": "1fb99a2a-fae0-43eb-b7e9-96fb14cda835",
   "metadata": {},
   "outputs": [
    {
     "name": "stdout",
     "output_type": "stream",
     "text": [
      "Collecting gTTs\n",
      "  Downloading gTTS-2.5.4-py3-none-any.whl.metadata (4.1 kB)\n",
      "Requirement already satisfied: requests<3,>=2.27 in c:\\users\\devin\\anaconda3\\lib\\site-packages (from gTTs) (2.32.3)\n",
      "Requirement already satisfied: click<8.2,>=7.1 in c:\\users\\devin\\anaconda3\\lib\\site-packages (from gTTs) (8.1.7)\n",
      "Requirement already satisfied: colorama in c:\\users\\devin\\anaconda3\\lib\\site-packages (from click<8.2,>=7.1->gTTs) (0.4.6)\n",
      "Requirement already satisfied: charset-normalizer<4,>=2 in c:\\users\\devin\\anaconda3\\lib\\site-packages (from requests<3,>=2.27->gTTs) (3.3.2)\n",
      "Requirement already satisfied: idna<4,>=2.5 in c:\\users\\devin\\anaconda3\\lib\\site-packages (from requests<3,>=2.27->gTTs) (3.7)\n",
      "Requirement already satisfied: urllib3<3,>=1.21.1 in c:\\users\\devin\\anaconda3\\lib\\site-packages (from requests<3,>=2.27->gTTs) (2.2.3)\n",
      "Requirement already satisfied: certifi>=2017.4.17 in c:\\users\\devin\\anaconda3\\lib\\site-packages (from requests<3,>=2.27->gTTs) (2024.12.14)\n",
      "Downloading gTTS-2.5.4-py3-none-any.whl (29 kB)\n",
      "Installing collected packages: gTTs\n",
      "Successfully installed gTTs-2.5.4\n"
     ]
    }
   ],
   "source": [
    "!pip install gTTs"
   ]
  },
  {
   "cell_type": "code",
   "execution_count": 1,
   "id": "d68f4893-e0d7-4c41-a786-54e6cb3043ad",
   "metadata": {},
   "outputs": [],
   "source": [
    "from gtts import gTTS"
   ]
  },
  {
   "cell_type": "code",
   "execution_count": 3,
   "id": "1d858652-1693-43be-bc6b-3ebb19000a5f",
   "metadata": {},
   "outputs": [],
   "source": [
    "convert = gTTS(text='I like this NLP. How about dude!', lang=\"en\", slow=False)\n",
    "convert.save(\"audio.mp3\")"
   ]
  },
  {
   "cell_type": "code",
   "execution_count": 5,
   "id": "83b97156-3bc2-4f81-97ec-0a0020aa3ae8",
   "metadata": {},
   "outputs": [
    {
     "name": "stdout",
     "output_type": "stream",
     "text": [
      "Collecting pyttsx3\n",
      "  Downloading pyttsx3-2.98-py3-none-any.whl.metadata (3.8 kB)\n",
      "Collecting comtypes (from pyttsx3)\n",
      "  Downloading comtypes-1.4.10-py3-none-any.whl.metadata (7.2 kB)\n",
      "Collecting pypiwin32 (from pyttsx3)\n",
      "  Downloading pypiwin32-223-py3-none-any.whl.metadata (236 bytes)\n",
      "Requirement already satisfied: pywin32 in c:\\users\\devin\\anaconda3\\lib\\site-packages (from pyttsx3) (305.1)\n",
      "Downloading pyttsx3-2.98-py3-none-any.whl (34 kB)\n",
      "Downloading comtypes-1.4.10-py3-none-any.whl (241 kB)\n",
      "Downloading pypiwin32-223-py3-none-any.whl (1.7 kB)\n",
      "Installing collected packages: pypiwin32, comtypes, pyttsx3\n",
      "Successfully installed comtypes-1.4.10 pypiwin32-223 pyttsx3-2.98\n"
     ]
    }
   ],
   "source": [
    "!pip install pyttsx3"
   ]
  },
  {
   "cell_type": "code",
   "execution_count": 9,
   "id": "5172b0df-307b-4403-b7b1-3a8dec632fbd",
   "metadata": {},
   "outputs": [],
   "source": [
    "import pyttsx3\n",
    "engine = pyttsx3.init() \n",
    "engine.say(\"Hi, I am text to speach\") \n",
    "engine.runAndWait()"
   ]
  },
  {
   "cell_type": "code",
   "execution_count": 11,
   "id": "d33aa98a-ddea-4fae-8a0f-908144df7aef",
   "metadata": {},
   "outputs": [],
   "source": [
    "text=['This is introduction to NLP','It is likely to be useful, to people ',\\\n",
    "      'Machine learning is the new electrcity','There would be less hype around AI and more action going forward',\\\n",
    "      'python is the best tool!','R is good langauage',\\\n",
    "      'I want more books like this']"
   ]
  },
  {
   "cell_type": "code",
   "execution_count": 14,
   "id": "fa894d21-86f7-452a-8eef-4dbc9f684ad6",
   "metadata": {},
   "outputs": [],
   "source": [
    "engine = pyttsx3.init() \n",
    "engine.say(text) \n",
    "engine.runAndWait()"
   ]
  },
  {
   "cell_type": "code",
   "execution_count": 22,
   "id": "bbf603c7-7be9-4d00-aaad-520070137392",
   "metadata": {},
   "outputs": [
    {
     "name": "stdout",
     "output_type": "stream",
     "text": [
      "150\n",
      "1.0\n"
     ]
    },
    {
     "ename": "RuntimeError",
     "evalue": "run loop already started",
     "output_type": "error",
     "traceback": [
      "\u001b[1;31m---------------------------------------------------------------------------\u001b[0m",
      "\u001b[1;31mRuntimeError\u001b[0m                              Traceback (most recent call last)",
      "Cell \u001b[1;32mIn[22], line 18\u001b[0m\n\u001b[0;32m     16\u001b[0m engine\u001b[38;5;241m.\u001b[39msay(\u001b[38;5;124m'\u001b[39m\u001b[38;5;124mMy current speaking rate is \u001b[39m\u001b[38;5;124m'\u001b[39m \u001b[38;5;241m+\u001b[39m \u001b[38;5;28mstr\u001b[39m(rate))\n\u001b[0;32m     17\u001b[0m engine\u001b[38;5;241m.\u001b[39msay(\u001b[38;5;124m'\u001b[39m\u001b[38;5;124mMy current speaking volume is \u001b[39m\u001b[38;5;124m'\u001b[39m \u001b[38;5;241m+\u001b[39m \u001b[38;5;28mstr\u001b[39m(volume))\n\u001b[1;32m---> 18\u001b[0m engine\u001b[38;5;241m.\u001b[39mrunAndWait()\n",
      "File \u001b[1;32m~\\anaconda3\\Lib\\site-packages\\pyttsx3\\engine.py:180\u001b[0m, in \u001b[0;36mEngine.runAndWait\u001b[1;34m(self)\u001b[0m\n\u001b[0;32m    172\u001b[0m \u001b[38;5;250m\u001b[39m\u001b[38;5;124;03m\"\"\"\u001b[39;00m\n\u001b[0;32m    173\u001b[0m \u001b[38;5;124;03mRuns an event loop until all commands queued up until this method call\u001b[39;00m\n\u001b[0;32m    174\u001b[0m \u001b[38;5;124;03mcomplete. Blocks during the event loop and returns when the queue is\u001b[39;00m\n\u001b[1;32m   (...)\u001b[0m\n\u001b[0;32m    177\u001b[0m \u001b[38;5;124;03m@raise RuntimeError: When the loop is already running\u001b[39;00m\n\u001b[0;32m    178\u001b[0m \u001b[38;5;124;03m\"\"\"\u001b[39;00m\n\u001b[0;32m    179\u001b[0m \u001b[38;5;28;01mif\u001b[39;00m \u001b[38;5;28mself\u001b[39m\u001b[38;5;241m.\u001b[39m_inLoop:\n\u001b[1;32m--> 180\u001b[0m     \u001b[38;5;28;01mraise\u001b[39;00m \u001b[38;5;167;01mRuntimeError\u001b[39;00m(\u001b[38;5;124m'\u001b[39m\u001b[38;5;124mrun loop already started\u001b[39m\u001b[38;5;124m'\u001b[39m)\n\u001b[0;32m    181\u001b[0m \u001b[38;5;28mself\u001b[39m\u001b[38;5;241m.\u001b[39m_inLoop \u001b[38;5;241m=\u001b[39m \u001b[38;5;28;01mTrue\u001b[39;00m\n\u001b[0;32m    182\u001b[0m \u001b[38;5;28mself\u001b[39m\u001b[38;5;241m.\u001b[39m_driverLoop \u001b[38;5;241m=\u001b[39m \u001b[38;5;28;01mTrue\u001b[39;00m\n",
      "\u001b[1;31mRuntimeError\u001b[0m: run loop already started"
     ]
    }
   ],
   "source": [
    "import pyttsx3\n",
    "engine = pyttsx3.init() # object creation\n",
    "\"\"\" RATE\"\"\"\n",
    "rate = engine.getProperty('rate')   # getting details of current speaking rate\n",
    "print (rate)                        #printing current voice rate\n",
    "engine.setProperty('rate', 150)     # setting up new voice rate\n",
    "\"\"\"VOLUME\"\"\"\n",
    "volume = engine.getProperty('volume')   #getting to know current volume level (min=0 and max=1)\n",
    "print (volume)                          #printing current volume level\n",
    "engine.setProperty('volume',1.0)    # setting up volume level  between 0 and 1\n",
    "\"\"\"VOICE\"\"\"\n",
    "voices = engine.getProperty('voices')       #getting details of current voice\n",
    "#engine.setProperty('voice', voices[0].id)  #changing index, changes voices. o for male\n",
    "engine.setProperty('voice', voices[1].id)   #changing index, changes voices. 1 for female\n",
    "engine.say(\"Hello World!\")\n",
    "engine.say('My current speaking rate is ' + str(rate))\n",
    "engine.say('My current speaking volume is ' + str(volume))\n",
    "engine.runAndWait()"
   ]
  },
  {
   "cell_type": "code",
   "execution_count": 24,
   "id": "cdcb2075-e51e-494e-91b2-3c5575f06603",
   "metadata": {},
   "outputs": [
    {
     "name": "stdout",
     "output_type": "stream",
     "text": [
      "Collecting goslate\n",
      "  Downloading goslate-1.5.4.tar.gz (14 kB)\n",
      "  Preparing metadata (setup.py): started\n",
      "  Preparing metadata (setup.py): finished with status 'done'\n",
      "Collecting futures (from goslate)\n",
      "  Downloading futures-3.0.5.tar.gz (25 kB)\n",
      "  Preparing metadata (setup.py): started\n",
      "  Preparing metadata (setup.py): finished with status 'done'\n",
      "Building wheels for collected packages: goslate, futures\n",
      "  Building wheel for goslate (setup.py): started\n",
      "  Building wheel for goslate (setup.py): finished with status 'done'\n",
      "  Created wheel for goslate: filename=goslate-1.5.4-py3-none-any.whl size=11628 sha256=c9844a875f872ba618024562551491495ae6a34152746cc3e68c47c110d50803\n",
      "  Stored in directory: c:\\users\\devin\\appdata\\local\\pip\\cache\\wheels\\bc\\54\\a5\\e2e504b0fd04ca038ae401212af643fb056eeabdcf42b16775\n",
      "  Building wheel for futures (setup.py): started\n",
      "  Building wheel for futures (setup.py): finished with status 'done'\n",
      "  Created wheel for futures: filename=futures-3.0.5-py3-none-any.whl size=14081 sha256=4221458172aa901fff5b8a2fdcff9e50cab29608accd9bf71e7dfed4f38c7813\n",
      "  Stored in directory: c:\\users\\devin\\appdata\\local\\pip\\cache\\wheels\\4e\\fb\\0a\\e384a2d8f43aec14d63fdd277e546431a86435354ff701f1ee\n",
      "Successfully built goslate futures\n",
      "Installing collected packages: futures, goslate\n",
      "Successfully installed futures-3.0.5 goslate-1.5.4\n"
     ]
    }
   ],
   "source": [
    "!pip install goslate"
   ]
  },
  {
   "cell_type": "code",
   "execution_count": 25,
   "id": "ea82bcb7-bcc4-4168-a486-be0088243ce9",
   "metadata": {},
   "outputs": [],
   "source": [
    "import goslate"
   ]
  },
  {
   "cell_type": "code",
   "execution_count": 28,
   "id": "130b309e-bf48-42e5-bff4-509ea4122d75",
   "metadata": {},
   "outputs": [
    {
     "name": "stdout",
     "output_type": "stream",
     "text": [
      "<generator object Goslate.translate.<locals>.<genexpr> at 0x000001114FB0B370>\n"
     ]
    }
   ],
   "source": [
    "gs = goslate.Goslate()\n",
    "translatedText = gs.translate(text,'en')\n",
    "print(translatedText)"
   ]
  },
  {
   "cell_type": "code",
   "execution_count": 30,
   "id": "b37d2210-837f-4f9a-a1fa-c54408fdbbb4",
   "metadata": {},
   "outputs": [
    {
     "name": "stdout",
     "output_type": "stream",
     "text": [
      "Collecting translate\n",
      "  Downloading translate-3.6.1-py2.py3-none-any.whl.metadata (7.7 kB)\n",
      "Requirement already satisfied: click in c:\\users\\devin\\anaconda3\\lib\\site-packages (from translate) (8.1.7)\n",
      "Requirement already satisfied: lxml in c:\\users\\devin\\anaconda3\\lib\\site-packages (from translate) (5.2.1)\n",
      "Requirement already satisfied: requests in c:\\users\\devin\\anaconda3\\lib\\site-packages (from translate) (2.32.3)\n",
      "Collecting libretranslatepy==2.1.1 (from translate)\n",
      "  Downloading libretranslatepy-2.1.1-py3-none-any.whl.metadata (233 bytes)\n",
      "Requirement already satisfied: colorama in c:\\users\\devin\\anaconda3\\lib\\site-packages (from click->translate) (0.4.6)\n",
      "Requirement already satisfied: charset-normalizer<4,>=2 in c:\\users\\devin\\anaconda3\\lib\\site-packages (from requests->translate) (3.3.2)\n",
      "Requirement already satisfied: idna<4,>=2.5 in c:\\users\\devin\\anaconda3\\lib\\site-packages (from requests->translate) (3.7)\n",
      "Requirement already satisfied: urllib3<3,>=1.21.1 in c:\\users\\devin\\anaconda3\\lib\\site-packages (from requests->translate) (2.2.3)\n",
      "Requirement already satisfied: certifi>=2017.4.17 in c:\\users\\devin\\anaconda3\\lib\\site-packages (from requests->translate) (2024.12.14)\n",
      "Downloading translate-3.6.1-py2.py3-none-any.whl (12 kB)\n",
      "Downloading libretranslatepy-2.1.1-py3-none-any.whl (3.2 kB)\n",
      "Installing collected packages: libretranslatepy, translate\n",
      "Successfully installed libretranslatepy-2.1.1 translate-3.6.1\n"
     ]
    }
   ],
   "source": [
    "!pip  install translate"
   ]
  },
  {
   "cell_type": "code",
   "execution_count": 43,
   "id": "76a72049-8881-4bd8-a5f9-19e17c748f27",
   "metadata": {},
   "outputs": [
    {
     "data": {
      "text/plain": [
       "'నేను చాల మంచి అబ్బాయిని'"
      ]
     },
     "execution_count": 43,
     "metadata": {},
     "output_type": "execute_result"
    }
   ],
   "source": [
    "# # traslating text to telugu\n",
    "from translate import Translator\n",
    "translator= Translator(to_lang=\"te\")\n",
    "translation = translator.translate(\"I am a GOOD GIRL!\")\n",
    "translation"
   ]
  },
  {
   "cell_type": "code",
   "execution_count": 34,
   "id": "bb5648a7-d37f-434a-b8f6-5d31903b0914",
   "metadata": {},
   "outputs": [
    {
     "data": {
      "text/plain": [
       "'कशी आहेस?'"
      ]
     },
     "execution_count": 34,
     "metadata": {},
     "output_type": "execute_result"
    }
   ],
   "source": [
    "# # traslating text to marathi\n",
    "from translate import Translator\n",
    "translator= Translator(to_lang=\"mr\")\n",
    "translation = translator.translate(\"How are you?\")\n",
    "translation"
   ]
  },
  {
   "cell_type": "code",
   "execution_count": 45,
   "id": "04d41e53-d1ee-4164-b03f-fac5361bce8d",
   "metadata": {},
   "outputs": [
    {
     "name": "stdout",
     "output_type": "stream",
     "text": [
      "Collecting python-vlc\n",
      "  Downloading python_vlc-3.0.21203-py3-none-any.whl.metadata (4.1 kB)\n",
      "Downloading python_vlc-3.0.21203-py3-none-any.whl (87 kB)\n",
      "Installing collected packages: python-vlc\n",
      "Successfully installed python-vlc-3.0.21203\n"
     ]
    }
   ],
   "source": [
    "!pip install python-vlc"
   ]
  },
  {
   "cell_type": "code",
   "execution_count": 53,
   "id": "18cc54d2-2053-4c96-85c3-9261ca7a5b6a",
   "metadata": {},
   "outputs": [
    {
     "ename": "FileNotFoundError",
     "evalue": "Could not find module 'C:\\Users\\devin\\Documents\\libvlc.dll' (or one of its dependencies). Try using the full path with constructor syntax.",
     "output_type": "error",
     "traceback": [
      "\u001b[1;31m---------------------------------------------------------------------------\u001b[0m",
      "\u001b[1;31mFileNotFoundError\u001b[0m                         Traceback (most recent call last)",
      "Cell \u001b[1;32mIn[53], line 1\u001b[0m\n\u001b[1;32m----> 1\u001b[0m \u001b[38;5;28;01mimport\u001b[39;00m \u001b[38;5;21;01mvlc\u001b[39;00m\n\u001b[0;32m      2\u001b[0m p \u001b[38;5;241m=\u001b[39m vlc\u001b[38;5;241m.\u001b[39mMediaPlayer(\u001b[38;5;124m\"\u001b[39m\u001b[38;5;124maudio.mp3\u001b[39m\u001b[38;5;124m\"\u001b[39m)\n\u001b[0;32m      3\u001b[0m p\u001b[38;5;241m.\u001b[39mplay()\n",
      "File \u001b[1;32m~\\anaconda3\\Lib\\site-packages\\vlc.py:197\u001b[0m\n\u001b[0;32m    193\u001b[0m     \u001b[38;5;28;01mreturn\u001b[39;00m (dll, plugin_path)\n\u001b[0;32m    196\u001b[0m \u001b[38;5;66;03m# plugin_path used on win32 and MacOS in override.py\u001b[39;00m\n\u001b[1;32m--> 197\u001b[0m dll, plugin_path \u001b[38;5;241m=\u001b[39m find_lib()\n\u001b[0;32m    200\u001b[0m \u001b[38;5;28;01mclass\u001b[39;00m \u001b[38;5;21;01mVLCException\u001b[39;00m(\u001b[38;5;167;01mException\u001b[39;00m):\n\u001b[0;32m    201\u001b[0m \u001b[38;5;250m    \u001b[39m\u001b[38;5;124;03m\"\"\"Exception raised by libvlc methods.\"\"\"\u001b[39;00m\n",
      "File \u001b[1;32m~\\anaconda3\\Lib\\site-packages\\vlc.py:156\u001b[0m, in \u001b[0;36mfind_lib\u001b[1;34m()\u001b[0m\n\u001b[0;32m    154\u001b[0m         os\u001b[38;5;241m.\u001b[39mchdir(p)\n\u001b[0;32m    155\u001b[0m     \u001b[38;5;28;01melse\u001b[39;00m:  \u001b[38;5;66;03m# may fail\u001b[39;00m\n\u001b[1;32m--> 156\u001b[0m         dll \u001b[38;5;241m=\u001b[39m ctypes\u001b[38;5;241m.\u001b[39mCDLL(\u001b[38;5;124m\"\u001b[39m\u001b[38;5;124m.\u001b[39m\u001b[38;5;130;01m\\\\\u001b[39;00m\u001b[38;5;124m\"\u001b[39m \u001b[38;5;241m+\u001b[39m libname)\n\u001b[0;32m    157\u001b[0m \u001b[38;5;28;01melse\u001b[39;00m:\n\u001b[0;32m    158\u001b[0m     plugin_path \u001b[38;5;241m=\u001b[39m os\u001b[38;5;241m.\u001b[39mpath\u001b[38;5;241m.\u001b[39mdirname(p)\n",
      "File \u001b[1;32m~\\anaconda3\\Lib\\ctypes\\__init__.py:379\u001b[0m, in \u001b[0;36mCDLL.__init__\u001b[1;34m(self, name, mode, handle, use_errno, use_last_error, winmode)\u001b[0m\n\u001b[0;32m    376\u001b[0m \u001b[38;5;28mself\u001b[39m\u001b[38;5;241m.\u001b[39m_FuncPtr \u001b[38;5;241m=\u001b[39m _FuncPtr\n\u001b[0;32m    378\u001b[0m \u001b[38;5;28;01mif\u001b[39;00m handle \u001b[38;5;129;01mis\u001b[39;00m \u001b[38;5;28;01mNone\u001b[39;00m:\n\u001b[1;32m--> 379\u001b[0m     \u001b[38;5;28mself\u001b[39m\u001b[38;5;241m.\u001b[39m_handle \u001b[38;5;241m=\u001b[39m _dlopen(\u001b[38;5;28mself\u001b[39m\u001b[38;5;241m.\u001b[39m_name, mode)\n\u001b[0;32m    380\u001b[0m \u001b[38;5;28;01melse\u001b[39;00m:\n\u001b[0;32m    381\u001b[0m     \u001b[38;5;28mself\u001b[39m\u001b[38;5;241m.\u001b[39m_handle \u001b[38;5;241m=\u001b[39m handle\n",
      "\u001b[1;31mFileNotFoundError\u001b[0m: Could not find module 'C:\\Users\\devin\\Documents\\libvlc.dll' (or one of its dependencies). Try using the full path with constructor syntax."
     ]
    }
   ],
   "source": [
    "import vlc\n",
    "p = vlc.MediaPlayer(\"audio.mp3\")\n",
    "p.play()"
   ]
  },
  {
   "cell_type": "code",
   "execution_count": 49,
   "id": "dffcb0f8-061c-4e40-a348-1a0333a9774e",
   "metadata": {},
   "outputs": [
    {
     "name": "stdout",
     "output_type": "stream",
     "text": [
      "Collecting playsound\n",
      "  Downloading playsound-1.3.0.tar.gz (7.7 kB)\n",
      "  Preparing metadata (setup.py): started\n",
      "  Preparing metadata (setup.py): finished with status 'done'\n",
      "Building wheels for collected packages: playsound\n",
      "  Building wheel for playsound (setup.py): started\n",
      "  Building wheel for playsound (setup.py): finished with status 'done'\n",
      "  Created wheel for playsound: filename=playsound-1.3.0-py3-none-any.whl size=7044 sha256=db1a37b22e9adef96d824000c82c0a13e688749f2c5fcf51867234db622ac6ff\n",
      "  Stored in directory: c:\\users\\devin\\appdata\\local\\pip\\cache\\wheels\\cf\\42\\ff\\7c587bae55eec67b909ca316b250d9b4daedbf272a3cbeb907\n",
      "Successfully built playsound\n",
      "Installing collected packages: playsound\n",
      "Successfully installed playsound-1.3.0\n"
     ]
    }
   ],
   "source": [
    "!pip install playsound"
   ]
  },
  {
   "cell_type": "code",
   "execution_count": 58,
   "id": "5f2625b7-8ea5-4818-a141-6f034fa589ae",
   "metadata": {},
   "outputs": [
    {
     "name": "stdout",
     "output_type": "stream",
     "text": [
      "playing sound using playsound\n"
     ]
    }
   ],
   "source": [
    "import playsound as pl\n",
    "pl.playsound('audio.mp3')\n",
    "print('playing sound using playsound')"
   ]
  },
  {
   "cell_type": "code",
   "execution_count": null,
   "id": "5fc95d44-6116-425f-a4c4-8720ff726b9b",
   "metadata": {},
   "outputs": [],
   "source": [
    "!pip install SpeechRecognition"
   ]
  },
  {
   "cell_type": "code",
   "execution_count": null,
   "id": "31a63522-02f1-4dfa-8065-e4e0e19a1dc6",
   "metadata": {},
   "outputs": [],
   "source": [
    "!pip install py"
   ]
  }
 ],
 "metadata": {
  "kernelspec": {
   "display_name": "Python [conda env:base] *",
   "language": "python",
   "name": "conda-base-py"
  },
  "language_info": {
   "codemirror_mode": {
    "name": "ipython",
    "version": 3
   },
   "file_extension": ".py",
   "mimetype": "text/x-python",
   "name": "python",
   "nbconvert_exporter": "python",
   "pygments_lexer": "ipython3",
   "version": "3.12.7"
  }
 },
 "nbformat": 4,
 "nbformat_minor": 5
}
